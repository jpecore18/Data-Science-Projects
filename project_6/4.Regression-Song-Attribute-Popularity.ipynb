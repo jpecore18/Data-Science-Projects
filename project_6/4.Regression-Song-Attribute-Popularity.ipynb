{
 "cells": [
  {
   "cell_type": "markdown",
   "metadata": {},
   "source": [
    "# 4. Regression Modeling - Song Attributes"
   ]
  },
  {
   "cell_type": "code",
   "execution_count": 11,
   "metadata": {},
   "outputs": [],
   "source": [
    "# imports\n",
    "import pandas as pd\n",
    "import numpy as np\n",
    "import matplotlib.pyplot as plt\n",
    "import seaborn as sns\n",
    "import requests\n",
    "import time\n",
    "import re\n",
    "\n",
    "# bs4, nltk, and sklearn imports\n",
    "from bs4 import BeautifulSoup   \n",
    "from nltk.tokenize import RegexpTokenizer\n",
    "from nltk.stem.porter import PorterStemmer\n",
    "from nltk.corpus import stopwords\n",
    "from sklearn import metrics\n",
    "from sklearn.linear_model import LinearRegression, LogisticRegression, Ridge, RidgeCV, Lasso, LassoCV\n",
    "from sklearn.model_selection import train_test_split, cross_val_score, GridSearchCV\n",
    "from sklearn.preprocessing import PolynomialFeatures, StandardScaler\n",
    "from sklearn.neighbors import KNeighborsClassifier, KNeighborsRegressor\n",
    "from sklearn.tree import DecisionTreeClassifier, DecisionTreeRegressor\n",
    "from sklearn.ensemble import BaggingRegressor, BaggingClassifier, RandomForestRegressor, RandomForestClassifier, AdaBoostClassifier, AdaBoostRegressor\n",
    "from sklearn.svm import SVC, SVR\n",
    "from sklearn import metrics\n",
    "from sklearn.feature_extraction.text import CountVectorizer, TfidfVectorizer\n",
    "from sklearn.pipeline import Pipeline\n",
    "from sklearn.naive_bayes import MultinomialNB\n",
    "from sklearn.metrics import confusion_matrix, plot_confusion_matrix\n",
    "from tensorflow.keras.models import Sequential\n",
    "from tensorflow.keras.layers import Dense\n",
    "from tensorflow.keras.utils import to_categorical\n",
    "\n",
    "#pd.set_option(\"display.max_rows\", None, \"display.max_columns\", None)"
   ]
  },
  {
   "cell_type": "code",
   "execution_count": 12,
   "metadata": {},
   "outputs": [
    {
     "name": "stderr",
     "output_type": "stream",
     "text": [
      "/opt/anaconda3/lib/python3.7/site-packages/IPython/core/interactiveshell.py:3063: DtypeWarning: Columns (2) have mixed types.Specify dtype option on import or set low_memory=False.\n",
      "  interactivity=interactivity, compiler=compiler, result=result)\n"
     ]
    }
   ],
   "source": [
    "giant_ordered_df = pd.read_csv('giant_ordered_df.csv')"
   ]
  },
  {
   "cell_type": "code",
   "execution_count": 13,
   "metadata": {},
   "outputs": [
    {
     "data": {
      "text/html": [
       "<div>\n",
       "<style scoped>\n",
       "    .dataframe tbody tr th:only-of-type {\n",
       "        vertical-align: middle;\n",
       "    }\n",
       "\n",
       "    .dataframe tbody tr th {\n",
       "        vertical-align: top;\n",
       "    }\n",
       "\n",
       "    .dataframe thead th {\n",
       "        text-align: right;\n",
       "    }\n",
       "</style>\n",
       "<table border=\"1\" class=\"dataframe\">\n",
       "  <thead>\n",
       "    <tr style=\"text-align: right;\">\n",
       "      <th></th>\n",
       "      <th>Unnamed: 0</th>\n",
       "      <th>artist</th>\n",
       "      <th>album</th>\n",
       "      <th>track_name</th>\n",
       "      <th>danceability</th>\n",
       "      <th>energy</th>\n",
       "      <th>loudness</th>\n",
       "      <th>mode</th>\n",
       "      <th>speechiness</th>\n",
       "      <th>instrumentalness</th>\n",
       "      <th>liveness</th>\n",
       "      <th>valence</th>\n",
       "      <th>tempo</th>\n",
       "      <th>duration_ms</th>\n",
       "      <th>time_signature</th>\n",
       "      <th>acousticness</th>\n",
       "      <th>popularity</th>\n",
       "    </tr>\n",
       "  </thead>\n",
       "  <tbody>\n",
       "    <tr>\n",
       "      <th>0</th>\n",
       "      <td>0</td>\n",
       "      <td>24kGoldn</td>\n",
       "      <td>Mood (feat. Iann Dior)</td>\n",
       "      <td>Mood (feat. Iann Dior)</td>\n",
       "      <td>0.700</td>\n",
       "      <td>0.722</td>\n",
       "      <td>-3.558</td>\n",
       "      <td>0</td>\n",
       "      <td>0.0369</td>\n",
       "      <td>0.000000</td>\n",
       "      <td>0.2720</td>\n",
       "      <td>0.756</td>\n",
       "      <td>90.989</td>\n",
       "      <td>140526</td>\n",
       "      <td>4</td>\n",
       "      <td>0.221</td>\n",
       "      <td>100.0</td>\n",
       "    </tr>\n",
       "    <tr>\n",
       "      <th>1</th>\n",
       "      <td>1</td>\n",
       "      <td>DaBaby</td>\n",
       "      <td>BLAME IT ON BABY</td>\n",
       "      <td>ROCKSTAR (feat. Roddy Ricch)</td>\n",
       "      <td>0.746</td>\n",
       "      <td>0.690</td>\n",
       "      <td>-7.956</td>\n",
       "      <td>1</td>\n",
       "      <td>0.1640</td>\n",
       "      <td>0.000000</td>\n",
       "      <td>0.1010</td>\n",
       "      <td>0.497</td>\n",
       "      <td>89.977</td>\n",
       "      <td>181733</td>\n",
       "      <td>4</td>\n",
       "      <td>0.247</td>\n",
       "      <td>96.0</td>\n",
       "    </tr>\n",
       "    <tr>\n",
       "      <th>2</th>\n",
       "      <td>2</td>\n",
       "      <td>Justin Bieber</td>\n",
       "      <td>Holy</td>\n",
       "      <td>Holy (feat. Chance The Rapper)</td>\n",
       "      <td>0.673</td>\n",
       "      <td>0.704</td>\n",
       "      <td>-8.056</td>\n",
       "      <td>1</td>\n",
       "      <td>0.3600</td>\n",
       "      <td>0.000000</td>\n",
       "      <td>0.0898</td>\n",
       "      <td>0.372</td>\n",
       "      <td>86.919</td>\n",
       "      <td>212093</td>\n",
       "      <td>4</td>\n",
       "      <td>0.196</td>\n",
       "      <td>93.0</td>\n",
       "    </tr>\n",
       "    <tr>\n",
       "      <th>3</th>\n",
       "      <td>3</td>\n",
       "      <td>Ariana Grande</td>\n",
       "      <td>Stuck with U</td>\n",
       "      <td>Stuck with U (with Justin Bieber)</td>\n",
       "      <td>0.597</td>\n",
       "      <td>0.450</td>\n",
       "      <td>-6.658</td>\n",
       "      <td>1</td>\n",
       "      <td>0.0418</td>\n",
       "      <td>0.000000</td>\n",
       "      <td>0.3820</td>\n",
       "      <td>0.537</td>\n",
       "      <td>178.765</td>\n",
       "      <td>228482</td>\n",
       "      <td>3</td>\n",
       "      <td>0.223</td>\n",
       "      <td>90.0</td>\n",
       "    </tr>\n",
       "    <tr>\n",
       "      <th>4</th>\n",
       "      <td>4</td>\n",
       "      <td>Pop Smoke</td>\n",
       "      <td>Shoot For The Stars Aim For The Moon</td>\n",
       "      <td>What You Know Bout Love</td>\n",
       "      <td>0.709</td>\n",
       "      <td>0.548</td>\n",
       "      <td>-8.493</td>\n",
       "      <td>1</td>\n",
       "      <td>0.3530</td>\n",
       "      <td>0.000002</td>\n",
       "      <td>0.1330</td>\n",
       "      <td>0.543</td>\n",
       "      <td>83.995</td>\n",
       "      <td>160000</td>\n",
       "      <td>4</td>\n",
       "      <td>0.650</td>\n",
       "      <td>88.0</td>\n",
       "    </tr>\n",
       "  </tbody>\n",
       "</table>\n",
       "</div>"
      ],
      "text/plain": [
       "   Unnamed: 0         artist                                 album  \\\n",
       "0           0       24kGoldn                Mood (feat. Iann Dior)   \n",
       "1           1         DaBaby                      BLAME IT ON BABY   \n",
       "2           2  Justin Bieber                                  Holy   \n",
       "3           3  Ariana Grande                          Stuck with U   \n",
       "4           4      Pop Smoke  Shoot For The Stars Aim For The Moon   \n",
       "\n",
       "                          track_name  danceability  energy  loudness  mode  \\\n",
       "0             Mood (feat. Iann Dior)         0.700   0.722    -3.558     0   \n",
       "1       ROCKSTAR (feat. Roddy Ricch)         0.746   0.690    -7.956     1   \n",
       "2     Holy (feat. Chance The Rapper)         0.673   0.704    -8.056     1   \n",
       "3  Stuck with U (with Justin Bieber)         0.597   0.450    -6.658     1   \n",
       "4            What You Know Bout Love         0.709   0.548    -8.493     1   \n",
       "\n",
       "   speechiness  instrumentalness  liveness  valence    tempo  duration_ms  \\\n",
       "0       0.0369          0.000000    0.2720    0.756   90.989       140526   \n",
       "1       0.1640          0.000000    0.1010    0.497   89.977       181733   \n",
       "2       0.3600          0.000000    0.0898    0.372   86.919       212093   \n",
       "3       0.0418          0.000000    0.3820    0.537  178.765       228482   \n",
       "4       0.3530          0.000002    0.1330    0.543   83.995       160000   \n",
       "\n",
       "  time_signature  acousticness  popularity  \n",
       "0              4         0.221       100.0  \n",
       "1              4         0.247        96.0  \n",
       "2              4         0.196        93.0  \n",
       "3              3         0.223        90.0  \n",
       "4              4         0.650        88.0  "
      ]
     },
     "execution_count": 13,
     "metadata": {},
     "output_type": "execute_result"
    }
   ],
   "source": [
    "giant_ordered_df.head()"
   ]
  },
  {
   "cell_type": "code",
   "execution_count": 14,
   "metadata": {},
   "outputs": [
    {
     "name": "stdout",
     "output_type": "stream",
     "text": [
      "<class 'pandas.core.frame.DataFrame'>\n",
      "RangeIndex: 149310 entries, 0 to 149309\n",
      "Data columns (total 17 columns):\n",
      " #   Column            Non-Null Count   Dtype  \n",
      "---  ------            --------------   -----  \n",
      " 0   Unnamed: 0        149310 non-null  int64  \n",
      " 1   artist            149310 non-null  object \n",
      " 2   album             695 non-null     object \n",
      " 3   track_name        149310 non-null  object \n",
      " 4   danceability      149310 non-null  float64\n",
      " 5   energy            149310 non-null  float64\n",
      " 6   loudness          149310 non-null  float64\n",
      " 7   mode              149310 non-null  int64  \n",
      " 8   speechiness       149310 non-null  float64\n",
      " 9   instrumentalness  149310 non-null  float64\n",
      " 10  liveness          149310 non-null  float64\n",
      " 11  valence           149310 non-null  float64\n",
      " 12  tempo             149310 non-null  float64\n",
      " 13  duration_ms       149310 non-null  int64  \n",
      " 14  time_signature    149310 non-null  object \n",
      " 15  acousticness      149310 non-null  float64\n",
      " 16  popularity        149310 non-null  float64\n",
      "dtypes: float64(10), int64(3), object(4)\n",
      "memory usage: 19.4+ MB\n"
     ]
    }
   ],
   "source": [
    "giant_ordered_df.info()"
   ]
  },
  {
   "cell_type": "code",
   "execution_count": 15,
   "metadata": {},
   "outputs": [],
   "source": [
    "song_features = ['danceability','energy','loudness','speechiness',\n",
    "                 'instrumentalness', 'liveness', 'valence', 'tempo',\n",
    "                'mode','duration_ms','acousticness']"
   ]
  },
  {
   "cell_type": "code",
   "execution_count": 16,
   "metadata": {},
   "outputs": [],
   "source": [
    "X = giant_ordered_df[song_features]\n",
    "y = giant_ordered_df['popularity']"
   ]
  },
  {
   "cell_type": "code",
   "execution_count": 17,
   "metadata": {},
   "outputs": [],
   "source": [
    "X_train, X_test, y_train, y_test = train_test_split(X,y,random_state=42)"
   ]
  },
  {
   "cell_type": "code",
   "execution_count": 18,
   "metadata": {},
   "outputs": [
    {
     "data": {
      "text/plain": [
       "StandardScaler(copy=True, with_mean=True, with_std=True)"
      ]
     },
     "execution_count": 18,
     "metadata": {},
     "output_type": "execute_result"
    }
   ],
   "source": [
    "ss = StandardScaler()\n",
    "\n",
    "ss.fit(X_train)"
   ]
  },
  {
   "cell_type": "code",
   "execution_count": 19,
   "metadata": {},
   "outputs": [
    {
     "data": {
      "text/plain": [
       "array([ 5.36737636e-01,  5.52945596e-01, -1.03567133e+01,  1.30806922e-01,\n",
       "        1.80468842e-01,  2.28217216e-01,  4.48744690e-01,  1.16924923e+02,\n",
       "        6.59918558e-01,  2.37686067e+05,  4.14008138e-01])"
      ]
     },
     "execution_count": 19,
     "metadata": {},
     "output_type": "execute_result"
    }
   ],
   "source": [
    "ss.mean_"
   ]
  },
  {
   "cell_type": "code",
   "execution_count": 20,
   "metadata": {},
   "outputs": [
    {
     "data": {
      "text/plain": [
       "array([1.92568787e-01, 2.80036057e-01, 6.59727919e+00, 2.09881421e-01,\n",
       "       3.29241832e-01, 2.14711121e-01, 2.69348142e-01, 3.13166084e+01,\n",
       "       4.73736271e-01, 1.34446289e+05, 3.70389701e-01])"
      ]
     },
     "execution_count": 20,
     "metadata": {},
     "output_type": "execute_result"
    }
   ],
   "source": [
    "ss.scale_"
   ]
  },
  {
   "cell_type": "code",
   "execution_count": 21,
   "metadata": {},
   "outputs": [],
   "source": [
    "X_train_sc = ss.transform(X_train)\n",
    "X_test_sc = ss.transform(X_test)"
   ]
  },
  {
   "cell_type": "markdown",
   "metadata": {},
   "source": [
    "### Linear Regression"
   ]
  },
  {
   "cell_type": "code",
   "execution_count": 22,
   "metadata": {},
   "outputs": [],
   "source": [
    "linreg = LinearRegression()"
   ]
  },
  {
   "cell_type": "code",
   "execution_count": 23,
   "metadata": {},
   "outputs": [
    {
     "data": {
      "text/plain": [
       "LinearRegression(copy_X=True, fit_intercept=True, n_jobs=None, normalize=False)"
      ]
     },
     "execution_count": 23,
     "metadata": {},
     "output_type": "execute_result"
    }
   ],
   "source": [
    "linreg.fit(X_train_sc,y_train)"
   ]
  },
  {
   "cell_type": "code",
   "execution_count": 24,
   "metadata": {},
   "outputs": [
    {
     "name": "stdout",
     "output_type": "stream",
     "text": [
      "Training Score: 0.21166877804753859\n",
      "Testing Score: 0.20940440446486508\n"
     ]
    }
   ],
   "source": [
    "print(f'Training Score: {linreg.score(X_train_sc, y_train)}')\n",
    "print(f'Testing Score: {linreg.score(X_test_sc, y_test)}')"
   ]
  },
  {
   "cell_type": "code",
   "execution_count": 25,
   "metadata": {},
   "outputs": [],
   "source": [
    "linregpred = linreg.predict(X)\n",
    "linregtrainpred = linreg.predict(X_train_sc)\n",
    "linregtestpred = linreg.predict(X_test_sc)"
   ]
  },
  {
   "cell_type": "code",
   "execution_count": 26,
   "metadata": {},
   "outputs": [
    {
     "name": "stdout",
     "output_type": "stream",
     "text": [
      "RMSE: 103843.2399415301\n",
      "Train RMSE: 15.49142803680425\n",
      "Test RMSE: 15.562123124641111\n"
     ]
    }
   ],
   "source": [
    "print('RMSE:', metrics.mean_squared_error(y, linregpred, squared=False))\n",
    "print('Train RMSE:', metrics.mean_squared_error(y_train, linregtrainpred, squared=False))\n",
    "print('Test RMSE:', metrics.mean_squared_error(y_test, linregtestpred, squared=False))"
   ]
  },
  {
   "cell_type": "markdown",
   "metadata": {},
   "source": [
    "### KNR"
   ]
  },
  {
   "cell_type": "code",
   "execution_count": 27,
   "metadata": {},
   "outputs": [],
   "source": [
    "knr = KNeighborsRegressor()"
   ]
  },
  {
   "cell_type": "code",
   "execution_count": 28,
   "metadata": {},
   "outputs": [
    {
     "data": {
      "text/plain": [
       "KNeighborsRegressor(algorithm='auto', leaf_size=30, metric='minkowski',\n",
       "                    metric_params=None, n_jobs=None, n_neighbors=5, p=2,\n",
       "                    weights='uniform')"
      ]
     },
     "execution_count": 28,
     "metadata": {},
     "output_type": "execute_result"
    }
   ],
   "source": [
    "knr.fit(X_train_sc,y_train)"
   ]
  },
  {
   "cell_type": "code",
   "execution_count": 29,
   "metadata": {},
   "outputs": [
    {
     "name": "stdout",
     "output_type": "stream",
     "text": [
      "Training Score: 0.48622940729827613\n",
      "Testing Score: 0.21945499235890573\n"
     ]
    }
   ],
   "source": [
    "print(f'Training Score: {knr.score(X_train_sc, y_train)}')\n",
    "print(f'Testing Score: {knr.score(X_test_sc, y_test)}')"
   ]
  },
  {
   "cell_type": "code",
   "execution_count": 30,
   "metadata": {},
   "outputs": [],
   "source": [
    "knrpred = knr.predict(X)\n",
    "knrtrainpred = knr.predict(X_train_sc)\n",
    "knrtestpred = knr.predict(X_test_sc)"
   ]
  },
  {
   "cell_type": "code",
   "execution_count": 31,
   "metadata": {},
   "outputs": [
    {
     "name": "stdout",
     "output_type": "stream",
     "text": [
      "RMSE: 19.8921136412954\n",
      "Train RMSE: 12.50609465822879\n",
      "Test RMSE: 15.462888595064836\n"
     ]
    }
   ],
   "source": [
    "print('RMSE:', metrics.mean_squared_error(y, knrpred, squared=False))\n",
    "print('Train RMSE:', metrics.mean_squared_error(y_train, knrtrainpred, squared=False))\n",
    "print('Test RMSE:', metrics.mean_squared_error(y_test, knrtestpred, squared=False))"
   ]
  },
  {
   "cell_type": "markdown",
   "metadata": {},
   "source": [
    "### Decision Tree"
   ]
  },
  {
   "cell_type": "code",
   "execution_count": 32,
   "metadata": {},
   "outputs": [],
   "source": [
    "dt = DecisionTreeRegressor(random_state=42)"
   ]
  },
  {
   "cell_type": "code",
   "execution_count": 33,
   "metadata": {},
   "outputs": [
    {
     "data": {
      "text/plain": [
       "DecisionTreeRegressor(ccp_alpha=0.0, criterion='mse', max_depth=None,\n",
       "                      max_features=None, max_leaf_nodes=None,\n",
       "                      min_impurity_decrease=0.0, min_impurity_split=None,\n",
       "                      min_samples_leaf=1, min_samples_split=2,\n",
       "                      min_weight_fraction_leaf=0.0, presort='deprecated',\n",
       "                      random_state=42, splitter='best')"
      ]
     },
     "execution_count": 33,
     "metadata": {},
     "output_type": "execute_result"
    }
   ],
   "source": [
    "dt.fit(X_train_sc, y_train)"
   ]
  },
  {
   "cell_type": "code",
   "execution_count": 34,
   "metadata": {},
   "outputs": [
    {
     "name": "stdout",
     "output_type": "stream",
     "text": [
      "Training Score: 0.9988842895394873\n",
      "Testing Score: -0.31122584507184237\n"
     ]
    }
   ],
   "source": [
    "print(f'Training Score: {dt.score(X_train_sc, y_train)}')\n",
    "print(f'Testing Score: {dt.score(X_test_sc, y_test)}')"
   ]
  },
  {
   "cell_type": "code",
   "execution_count": 35,
   "metadata": {},
   "outputs": [],
   "source": [
    "dtpred = dt.predict(X)\n",
    "dttrainpred = dt.predict(X_train)\n",
    "dttestpred = dt.predict(X_test)"
   ]
  },
  {
   "cell_type": "code",
   "execution_count": 36,
   "metadata": {},
   "outputs": [
    {
     "name": "stdout",
     "output_type": "stream",
     "text": [
      "RMSE: 24.613831624787018\n",
      "Train RMSE: 24.63044571029021\n",
      "Test RMSE: 24.563922837903053\n"
     ]
    }
   ],
   "source": [
    "print('RMSE:', metrics.mean_squared_error(y, dtpred, squared=False))\n",
    "print('Train RMSE:', metrics.mean_squared_error(y_train, dttrainpred, squared=False))\n",
    "print('Test RMSE:', metrics.mean_squared_error(y_test, dttestpred, squared=False))"
   ]
  },
  {
   "cell_type": "markdown",
   "metadata": {},
   "source": [
    "### Bagged Decision Trees"
   ]
  },
  {
   "cell_type": "code",
   "execution_count": 37,
   "metadata": {},
   "outputs": [],
   "source": [
    "bag = BaggingRegressor(random_state=42, n_estimators=100) "
   ]
  },
  {
   "cell_type": "code",
   "execution_count": 38,
   "metadata": {},
   "outputs": [
    {
     "data": {
      "text/plain": [
       "BaggingRegressor(base_estimator=None, bootstrap=True, bootstrap_features=False,\n",
       "                 max_features=1.0, max_samples=1.0, n_estimators=100,\n",
       "                 n_jobs=None, oob_score=False, random_state=42, verbose=0,\n",
       "                 warm_start=False)"
      ]
     },
     "execution_count": 38,
     "metadata": {},
     "output_type": "execute_result"
    }
   ],
   "source": [
    "bag.fit(X_train_sc, y_train)"
   ]
  },
  {
   "cell_type": "code",
   "execution_count": 39,
   "metadata": {},
   "outputs": [
    {
     "name": "stdout",
     "output_type": "stream",
     "text": [
      "Training Score: 0.9082099989097917\n",
      "Testing Score: 0.34629184788331546\n"
     ]
    }
   ],
   "source": [
    "print(f'Training Score: {bag.score(X_train_sc, y_train)}')\n",
    "print(f'Testing Score: {bag.score(X_test_sc, y_test)}')"
   ]
  },
  {
   "cell_type": "code",
   "execution_count": 40,
   "metadata": {},
   "outputs": [],
   "source": [
    "bagpred = bag.predict(X)\n",
    "bagtrainpred = bag.predict(X_train)\n",
    "bagtestpred = bag.predict(X_test)"
   ]
  },
  {
   "cell_type": "code",
   "execution_count": 41,
   "metadata": {},
   "outputs": [
    {
     "name": "stdout",
     "output_type": "stream",
     "text": [
      "RMSE: 17.29096830496528\n",
      "Train RMSE: 17.272774506044097\n",
      "Test RMSE: 17.345434228935705\n"
     ]
    }
   ],
   "source": [
    "print('RMSE:', metrics.mean_squared_error(y, bagpred, squared=False))\n",
    "print('Train RMSE:', metrics.mean_squared_error(y_train, bagtrainpred, squared=False))\n",
    "print('Test RMSE:', metrics.mean_squared_error(y_test, bagtestpred, squared=False))"
   ]
  },
  {
   "cell_type": "markdown",
   "metadata": {},
   "source": [
    "### Random Forest"
   ]
  },
  {
   "cell_type": "code",
   "execution_count": 42,
   "metadata": {},
   "outputs": [],
   "source": [
    "rfc = RandomForestRegressor(random_state=42) "
   ]
  },
  {
   "cell_type": "code",
   "execution_count": 43,
   "metadata": {},
   "outputs": [
    {
     "data": {
      "text/plain": [
       "RandomForestRegressor(bootstrap=True, ccp_alpha=0.0, criterion='mse',\n",
       "                      max_depth=None, max_features='auto', max_leaf_nodes=None,\n",
       "                      max_samples=None, min_impurity_decrease=0.0,\n",
       "                      min_impurity_split=None, min_samples_leaf=1,\n",
       "                      min_samples_split=2, min_weight_fraction_leaf=0.0,\n",
       "                      n_estimators=100, n_jobs=None, oob_score=False,\n",
       "                      random_state=42, verbose=0, warm_start=False)"
      ]
     },
     "execution_count": 43,
     "metadata": {},
     "output_type": "execute_result"
    }
   ],
   "source": [
    "rfc.fit(X_train_sc, y_train)"
   ]
  },
  {
   "cell_type": "code",
   "execution_count": 44,
   "metadata": {},
   "outputs": [
    {
     "name": "stdout",
     "output_type": "stream",
     "text": [
      "Training Score: 0.9081066334773302\n",
      "Testing Score: 0.3461899061990311\n"
     ]
    }
   ],
   "source": [
    "print(f'Training Score: {rfc.score(X_train_sc, y_train)}')\n",
    "print(f'Testing Score: {rfc.score(X_test_sc, y_test)}')"
   ]
  },
  {
   "cell_type": "code",
   "execution_count": 45,
   "metadata": {},
   "outputs": [],
   "source": [
    "rfcpred = rfc.predict(X)\n",
    "rfctrainpred = rfc.predict(X_train)\n",
    "rfctestpred = rfc.predict(X_test)"
   ]
  },
  {
   "cell_type": "code",
   "execution_count": 46,
   "metadata": {},
   "outputs": [
    {
     "name": "stdout",
     "output_type": "stream",
     "text": [
      "RMSE: 17.06330188020924\n",
      "Train RMSE: 17.044136046401707\n",
      "Test RMSE: 17.12066962742249\n"
     ]
    }
   ],
   "source": [
    "print('RMSE:', metrics.mean_squared_error(y, rfcpred, squared=False))\n",
    "print('Train RMSE:', metrics.mean_squared_error(y_train, rfctrainpred, squared=False))\n",
    "print('Test RMSE:', metrics.mean_squared_error(y_test, rfctestpred, squared=False))"
   ]
  },
  {
   "cell_type": "markdown",
   "metadata": {},
   "source": [
    "### AdaBoost"
   ]
  },
  {
   "cell_type": "code",
   "execution_count": 47,
   "metadata": {},
   "outputs": [],
   "source": [
    "AdaBoost = AdaBoostRegressor(random_state=42)"
   ]
  },
  {
   "cell_type": "code",
   "execution_count": 48,
   "metadata": {},
   "outputs": [
    {
     "data": {
      "text/plain": [
       "AdaBoostRegressor(base_estimator=None, learning_rate=1.0, loss='linear',\n",
       "                  n_estimators=50, random_state=42)"
      ]
     },
     "execution_count": 48,
     "metadata": {},
     "output_type": "execute_result"
    }
   ],
   "source": [
    "AdaBoost.fit(X_train_sc, y_train)"
   ]
  },
  {
   "cell_type": "code",
   "execution_count": 49,
   "metadata": {},
   "outputs": [
    {
     "name": "stdout",
     "output_type": "stream",
     "text": [
      "Training Score: 0.24349123903622516\n",
      "Testing Score: 0.23581696473273814\n"
     ]
    }
   ],
   "source": [
    "print(f'Training Score: {AdaBoost.score(X_train_sc, y_train)}')\n",
    "print(f'Testing Score: {AdaBoost.score(X_test_sc, y_test)}')"
   ]
  },
  {
   "cell_type": "code",
   "execution_count": 50,
   "metadata": {},
   "outputs": [],
   "source": [
    "AdaBoostpred = AdaBoost.predict(X)\n",
    "AdaBoosttrainpred = AdaBoost.predict(X_train)\n",
    "AdaBoosttestpred = AdaBoost.predict(X_test)"
   ]
  },
  {
   "cell_type": "code",
   "execution_count": 51,
   "metadata": {},
   "outputs": [
    {
     "name": "stdout",
     "output_type": "stream",
     "text": [
      "RMSE: 17.56336705821369\n",
      "Train RMSE: 17.545100275279864\n",
      "Test RMSE: 17.618052795812485\n"
     ]
    }
   ],
   "source": [
    "print('RMSE:', metrics.mean_squared_error(y, AdaBoostpred, squared=False))\n",
    "print('Train RMSE:', metrics.mean_squared_error(y_train, AdaBoosttrainpred, squared=False))\n",
    "print('Test RMSE:', metrics.mean_squared_error(y_test, AdaBoosttestpred, squared=False))"
   ]
  },
  {
   "cell_type": "markdown",
   "metadata": {},
   "source": [
    "### Neural Network"
   ]
  },
  {
   "cell_type": "code",
   "execution_count": 52,
   "metadata": {},
   "outputs": [],
   "source": [
    "model = Sequential()\n",
    "model.add(Dense(128, # How many neurons we want in the first layer \n",
    "               activation='relu',\n",
    "               input_shape=(11, )))\n",
    "model.add(Dense(1, activation=None))"
   ]
  },
  {
   "cell_type": "code",
   "execution_count": 53,
   "metadata": {},
   "outputs": [],
   "source": [
    "model.compile(loss='mse', optimizer=\"adam\", metrics=['acc'])"
   ]
  },
  {
   "cell_type": "code",
   "execution_count": 54,
   "metadata": {},
   "outputs": [
    {
     "name": "stdout",
     "output_type": "stream",
     "text": [
      "(111982, 11)\n",
      "(37328, 11)\n"
     ]
    }
   ],
   "source": [
    "print(X_train_sc.shape)\n",
    "print(X_test_sc.shape)"
   ]
  },
  {
   "cell_type": "code",
   "execution_count": 55,
   "metadata": {},
   "outputs": [
    {
     "name": "stdout",
     "output_type": "stream",
     "text": [
      "(111982,)\n",
      "(37328,)\n"
     ]
    }
   ],
   "source": [
    "print(y_train.shape)\n",
    "print(y_test.shape)"
   ]
  },
  {
   "cell_type": "code",
   "execution_count": 56,
   "metadata": {},
   "outputs": [
    {
     "name": "stdout",
     "output_type": "stream",
     "text": [
      "Epoch 1/10\n",
      "3500/3500 [==============================] - 5s 1ms/step - loss: 307.0652 - acc: 0.0075 - val_loss: 223.7663 - val_acc: 0.0071\n",
      "Epoch 2/10\n",
      "3500/3500 [==============================] - 8s 2ms/step - loss: 217.3026 - acc: 0.0074 - val_loss: 218.3688 - val_acc: 0.0072\n",
      "Epoch 3/10\n",
      "3500/3500 [==============================] - 5s 1ms/step - loss: 213.4272 - acc: 0.0074 - val_loss: 215.2651 - val_acc: 0.0072\n",
      "Epoch 4/10\n",
      "3500/3500 [==============================] - 6s 2ms/step - loss: 211.3465 - acc: 0.0074 - val_loss: 214.6905 - val_acc: 0.0072\n",
      "Epoch 5/10\n",
      "3500/3500 [==============================] - 4s 1ms/step - loss: 209.9790 - acc: 0.0074 - val_loss: 213.0052 - val_acc: 0.0072\n",
      "Epoch 6/10\n",
      "3500/3500 [==============================] - 5s 1ms/step - loss: 208.9396 - acc: 0.0074 - val_loss: 212.1715 - val_acc: 0.0072\n",
      "Epoch 7/10\n",
      "3500/3500 [==============================] - 5s 1ms/step - loss: 208.0673 - acc: 0.0075 - val_loss: 212.5570 - val_acc: 0.0072\n",
      "Epoch 8/10\n",
      "3500/3500 [==============================] - 5s 2ms/step - loss: 207.4367 - acc: 0.0075 - val_loss: 211.0072 - val_acc: 0.0073\n",
      "Epoch 9/10\n",
      "3500/3500 [==============================] - 5s 1ms/step - loss: 206.7694 - acc: 0.0075 - val_loss: 211.2397 - val_acc: 0.0072\n",
      "Epoch 10/10\n",
      "3500/3500 [==============================] - 5s 1ms/step - loss: 206.3929 - acc: 0.0075 - val_loss: 211.3347 - val_acc: 0.0072\n"
     ]
    }
   ],
   "source": [
    "history = model.fit(X_train_sc, y_train,\n",
    "         epochs=10,\n",
    "         batch_size=32,\n",
    "         validation_data=(X_test_sc, y_test))"
   ]
  },
  {
   "cell_type": "code",
   "execution_count": 57,
   "metadata": {},
   "outputs": [
    {
     "data": {
      "image/png": "[encoded data removed]",
      "text/plain": [
       "<Figure size 432x288 with 1 Axes>"
      ]
     },
     "metadata": {
      "needs_background": "light"
     },
     "output_type": "display_data"
    }
   ],
   "source": [
    "# Generates a line plot\n",
    "plt.plot(history.history['val_loss'], label='Val Loss') # on test data\n",
    "plt.plot(history.history['loss'], label='Loss') # on train data\n",
    "plt.legend();"
   ]
  },
  {
   "cell_type": "code",
   "execution_count": 58,
   "metadata": {},
   "outputs": [
    {
     "data": {
      "image/png": "[encoded data removed]",
      "text/plain": [
       "<Figure size 432x288 with 1 Axes>"
      ]
     },
     "metadata": {
      "needs_background": "light"
     },
     "output_type": "display_data"
    }
   ],
   "source": [
    "plt.plot(history.history['val_acc'], label='Training Accuracy') # on test data\n",
    "plt.plot(history.history['acc'], label='Testing Accuracy') # on train data\n",
    "plt.legend();"
   ]
  },
  {
   "cell_type": "code",
   "execution_count": null,
   "metadata": {},
   "outputs": [],
   "source": []
  }
 ],
 "metadata": {
  "kernelspec": {
   "display_name": "Python 3",
   "language": "python",
   "name": "python3"
  },
  "language_info": {
   "codemirror_mode": {
    "name": "ipython",
    "version": 3
   },
   "file_extension": ".py",
   "mimetype": "text/x-python",
   "name": "python",
   "nbconvert_exporter": "python",
   "pygments_lexer": "ipython3",
   "version": "3.7.6"
  }
 },
 "nbformat": 4,
 "nbformat_minor": 4
}
