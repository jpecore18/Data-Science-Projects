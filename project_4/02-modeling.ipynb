{
 "cells": [
  {
   "cell_type": "markdown",
   "metadata": {},
   "source": [
    "# 2. Project 4 - Modeling"
   ]
  },
  {
   "cell_type": "code",
   "execution_count": 1,
   "metadata": {},
   "outputs": [],
   "source": [
    "# standard imports\n",
    "import pandas as pd \n",
    "import numpy as np\n",
    "import matplotlib.pyplot as plt\n",
    "import seaborn as sns\n",
    "import requests\n",
    "import time\n",
    "import re\n",
    "# bs4, nltk, and sklearn imports\n",
    "from bs4 import BeautifulSoup             \n",
    "from nltk.corpus import stopwords\n",
    "from sklearn.svm import SVC\n",
    "from sklearn import metrics\n",
    "from sklearn.linear_model import LinearRegression, LogisticRegression, Ridge, RidgeCV, Lasso, LassoCV\n",
    "from sklearn.tree import DecisionTreeClassifier\n",
    "from sklearn.model_selection import train_test_split, cross_val_score, GridSearchCV\n",
    "from sklearn.preprocessing import PolynomialFeatures, StandardScaler\n",
    "from sklearn.feature_extraction.text import CountVectorizer, TfidfVectorizer\n",
    "from sklearn.pipeline import Pipeline\n",
    "from sklearn.naive_bayes import MultinomialNB\n",
    "from sklearn.metrics import confusion_matrix, plot_confusion_matrix\n",
    "from sklearn.ensemble import BaggingClassifier, RandomForestClassifier, GradientBoostingClassifier, AdaBoostClassifier, ExtraTreesClassifier\n",
    "from sklearn.neighbors import KNeighborsClassifier\n",
    "pd.set_option(\"display.max_rows\", None, \"display.max_columns\", None)"
   ]
  },
  {
   "cell_type": "code",
   "execution_count": 2,
   "metadata": {},
   "outputs": [],
   "source": [
    "train = pd.read_csv('./data/train_clean.csv')\n",
    "test = pd.read_csv('./data/test_clean.csv')"
   ]
  },
  {
   "cell_type": "code",
   "execution_count": 3,
   "metadata": {},
   "outputs": [],
   "source": [
    "X = train.drop(columns = ['fnlwgt','wage','workclass','education','education-num','occupation','relationship','marital-status','capital-gain','capital-loss'])\n",
    "y = train['wage']"
   ]
  },
  {
   "cell_type": "code",
   "execution_count": 4,
   "metadata": {},
   "outputs": [],
   "source": [
    "X_train, X_test, y_train, y_test = train_test_split(X, y, random_state=42)"
   ]
  },
  {
   "cell_type": "code",
   "execution_count": 5,
   "metadata": {},
   "outputs": [
    {
     "data": {
      "text/plain": [
       "0    0.759251\n",
       "1    0.240749\n",
       "Name: wage, dtype: float64"
      ]
     },
     "execution_count": 5,
     "metadata": {},
     "output_type": "execute_result"
    }
   ],
   "source": [
    "y.value_counts(normalize = True)"
   ]
  },
  {
   "cell_type": "code",
   "execution_count": 6,
   "metadata": {},
   "outputs": [],
   "source": [
    "def search_fit(est, X, y, params, name = None, scale = False):\n",
    "    #split the data into training and testing\n",
    "    X_tr, X_te, y_tr, y_te = train_test_split(X, y, random_state = 42, stratify = y)\n",
    "    #initialize the gridsearch with the passed estimator object\n",
    "    gs = GridSearchCV(est, params, cv = 5, n_jobs=5)\n",
    "    #scale the data if scale = True\n",
    "    if scale:\n",
    "        sc = StandardScaler()\n",
    "        X_tr = sc.fit_transform(X_tr)\n",
    "        X_te = sc.fit_transform(X_te)\n",
    "    #Fit training data, print scores and params, then return the best estimator\n",
    "    gs.fit(X_tr, y_tr)\n",
    "    print(f'{name} Training Score : {gs.score(X_tr, y_tr)}')\n",
    "    print(f'{name} Testing Score  : {gs.score(X_te, y_te)}')\n",
    "    print(f'Best Params: {gs.best_params_}')\n",
    "    return gs.best_estimator_.fit(X_tr, y_tr)"
   ]
  },
  {
   "cell_type": "markdown",
   "metadata": {},
   "source": [
    "### Decision Tree"
   ]
  },
  {
   "cell_type": "code",
   "execution_count": 7,
   "metadata": {},
   "outputs": [
    {
     "name": "stdout",
     "output_type": "stream",
     "text": [
      "Decision Tree Training Score : 0.8476658476658476\n",
      "Decision Tree Testing Score  : 0.8238182934315531\n",
      "Best Params: {'max_depth': 7, 'max_features': None, 'min_samples_split': 4}\n"
     ]
    }
   ],
   "source": [
    "dt = search_fit(DecisionTreeClassifier(), X, y,\n",
    "            params = {\n",
    "                'max_depth' : [7],\n",
    "                'min_samples_split' : [4],\n",
    "                'max_features' : [None]\n",
    "            },\n",
    "           name = \"Decision Tree\")"
   ]
  },
  {
   "cell_type": "markdown",
   "metadata": {},
   "source": [
    "### Bagged Decision Trees"
   ]
  },
  {
   "cell_type": "code",
   "execution_count": 8,
   "metadata": {},
   "outputs": [],
   "source": [
    "bag = BaggingClassifier(base_estimator=DecisionTreeClassifier(max_depth = 7, min_samples_split = 4))"
   ]
  },
  {
   "cell_type": "code",
   "execution_count": 9,
   "metadata": {},
   "outputs": [
    {
     "data": {
      "text/plain": [
       "BaggingClassifier(base_estimator=DecisionTreeClassifier(ccp_alpha=0.0,\n",
       "                                                        class_weight=None,\n",
       "                                                        criterion='gini',\n",
       "                                                        max_depth=7,\n",
       "                                                        max_features=None,\n",
       "                                                        max_leaf_nodes=None,\n",
       "                                                        min_impurity_decrease=0.0,\n",
       "                                                        min_impurity_split=None,\n",
       "                                                        min_samples_leaf=1,\n",
       "                                                        min_samples_split=4,\n",
       "                                                        min_weight_fraction_leaf=0.0,\n",
       "                                                        presort='deprecated',\n",
       "                                                        random_state=None,\n",
       "                                                        splitter='best'),\n",
       "                  bootstrap=True, bootstrap_features=False, max_features=1.0,\n",
       "                  max_samples=1.0, n_estimators=10, n_jobs=None,\n",
       "                  oob_score=False, random_state=None, verbose=0,\n",
       "                  warm_start=False)"
      ]
     },
     "execution_count": 9,
     "metadata": {},
     "output_type": "execute_result"
    }
   ],
   "source": [
    "bag.fit(X_train,y_train)"
   ]
  },
  {
   "cell_type": "code",
   "execution_count": 10,
   "metadata": {},
   "outputs": [
    {
     "data": {
      "text/plain": [
       "0.8562653562653563"
      ]
     },
     "execution_count": 10,
     "metadata": {},
     "output_type": "execute_result"
    }
   ],
   "source": [
    "bag.score(X_train, y_train)"
   ]
  },
  {
   "cell_type": "code",
   "execution_count": 11,
   "metadata": {},
   "outputs": [
    {
     "data": {
      "text/plain": [
       "0.8238182934315531"
      ]
     },
     "execution_count": 11,
     "metadata": {},
     "output_type": "execute_result"
    }
   ],
   "source": [
    "bag.score(X_test, y_test)"
   ]
  },
  {
   "cell_type": "markdown",
   "metadata": {},
   "source": [
    "### Random Forest"
   ]
  },
  {
   "cell_type": "code",
   "execution_count": 12,
   "metadata": {},
   "outputs": [
    {
     "name": "stdout",
     "output_type": "stream",
     "text": [
      "Random Forest Training Score : 0.9011056511056511\n",
      "Random Forest Testing Score  : 0.8275015346838551\n",
      "Best Params: {'ccp_alpha': 0.0001, 'max_depth': 50, 'max_features': 'auto', 'min_samples_split': 10, 'n_estimators': 110}\n"
     ]
    }
   ],
   "source": [
    "rf = search_fit(RandomForestClassifier(), X, y,\n",
    "            params = {\n",
    "                'n_estimators' : [110],\n",
    "                'max_depth' : [50],\n",
    "                'min_samples_split' : [10],\n",
    "                'max_features' : ['auto'],\n",
    "                'ccp_alpha' : [0.0001]\n",
    "            },\n",
    "           name = \"Random Forest\")"
   ]
  },
  {
   "cell_type": "code",
   "execution_count": 13,
   "metadata": {},
   "outputs": [],
   "source": [
    "bag = BaggingClassifier(base_estimator=RandomForestClassifier(n_estimators = 110, max_depth = 50, min_samples_split = 10, max_features = 'auto'))"
   ]
  },
  {
   "cell_type": "code",
   "execution_count": 14,
   "metadata": {},
   "outputs": [
    {
     "data": {
      "text/plain": [
       "BaggingClassifier(base_estimator=RandomForestClassifier(bootstrap=True,\n",
       "                                                        ccp_alpha=0.0,\n",
       "                                                        class_weight=None,\n",
       "                                                        criterion='gini',\n",
       "                                                        max_depth=50,\n",
       "                                                        max_features='auto',\n",
       "                                                        max_leaf_nodes=None,\n",
       "                                                        max_samples=None,\n",
       "                                                        min_impurity_decrease=0.0,\n",
       "                                                        min_impurity_split=None,\n",
       "                                                        min_samples_leaf=1,\n",
       "                                                        min_samples_split=10,\n",
       "                                                        min_weight_fraction_leaf=0.0,\n",
       "                                                        n_estimators=110,\n",
       "                                                        n_jobs=None,\n",
       "                                                        oob_score=False,\n",
       "                                                        random_state=None,\n",
       "                                                        verbose=0,\n",
       "                                                        warm_start=False),\n",
       "                  bootstrap=True, bootstrap_features=False, max_features=1.0,\n",
       "                  max_samples=1.0, n_estimators=10, n_jobs=None,\n",
       "                  oob_score=False, random_state=None, verbose=0,\n",
       "                  warm_start=False)"
      ]
     },
     "execution_count": 14,
     "metadata": {},
     "output_type": "execute_result"
    }
   ],
   "source": [
    "bag.fit(X_train, y_train)"
   ]
  },
  {
   "cell_type": "code",
   "execution_count": 15,
   "metadata": {},
   "outputs": [
    {
     "data": {
      "text/plain": [
       "0.8851351351351351"
      ]
     },
     "execution_count": 15,
     "metadata": {},
     "output_type": "execute_result"
    }
   ],
   "source": [
    "bag.score(X_train, y_train)"
   ]
  },
  {
   "cell_type": "code",
   "execution_count": 16,
   "metadata": {},
   "outputs": [
    {
     "data": {
      "text/plain": [
       "0.8219766728054021"
      ]
     },
     "execution_count": 16,
     "metadata": {},
     "output_type": "execute_result"
    }
   ],
   "source": [
    "bag.score(X_test, y_test)"
   ]
  },
  {
   "cell_type": "markdown",
   "metadata": {},
   "source": [
    "### Extra Trees"
   ]
  },
  {
   "cell_type": "code",
   "execution_count": 17,
   "metadata": {},
   "outputs": [
    {
     "name": "stdout",
     "output_type": "stream",
     "text": [
      "Extra Trees Training Score : 0.8849303849303849\n",
      "Extra Trees Testing Score  : 0.8256599140577041\n",
      "Best Params: {'ccp_alpha': 0.0001, 'max_depth': 15, 'max_features': 'auto', 'min_samples_split': 3, 'n_estimators': 150}\n"
     ]
    }
   ],
   "source": [
    "et = search_fit(ExtraTreesClassifier(), X, y,\n",
    "            params = {\n",
    "                'n_estimators' : [150],\n",
    "                'max_depth' : [15],\n",
    "                'min_samples_split' : [3],\n",
    "                'max_features' : ['auto'],\n",
    "                'ccp_alpha' : [0.0001]\n",
    "            },\n",
    "           name = \"Extra Trees\")"
   ]
  },
  {
   "cell_type": "code",
   "execution_count": 18,
   "metadata": {},
   "outputs": [],
   "source": [
    "bag = BaggingClassifier(base_estimator=ExtraTreesClassifier(n_estimators = 150, max_depth = 15, min_samples_split = 10, max_features = 'auto', ccp_alpha = 0.0001))"
   ]
  },
  {
   "cell_type": "code",
   "execution_count": 19,
   "metadata": {},
   "outputs": [
    {
     "data": {
      "text/plain": [
       "BaggingClassifier(base_estimator=ExtraTreesClassifier(bootstrap=False,\n",
       "                                                      ccp_alpha=0.0001,\n",
       "                                                      class_weight=None,\n",
       "                                                      criterion='gini',\n",
       "                                                      max_depth=15,\n",
       "                                                      max_features='auto',\n",
       "                                                      max_leaf_nodes=None,\n",
       "                                                      max_samples=None,\n",
       "                                                      min_impurity_decrease=0.0,\n",
       "                                                      min_impurity_split=None,\n",
       "                                                      min_samples_leaf=1,\n",
       "                                                      min_samples_split=10,\n",
       "                                                      min_weight_fraction_leaf=0.0,\n",
       "                                                      n_estimators=150,\n",
       "                                                      n_jobs=None,\n",
       "                                                      oob_score=False,\n",
       "                                                      random_state=None,\n",
       "                                                      verbose=0,\n",
       "                                                      warm_start=False),\n",
       "                  bootstrap=True, bootstrap_features=False, max_features=1.0,\n",
       "                  max_samples=1.0, n_estimators=10, n_jobs=None,\n",
       "                  oob_score=False, random_state=None, verbose=0,\n",
       "                  warm_start=False)"
      ]
     },
     "execution_count": 19,
     "metadata": {},
     "output_type": "execute_result"
    }
   ],
   "source": [
    "bag.fit(X_train,y_train)"
   ]
  },
  {
   "cell_type": "code",
   "execution_count": 20,
   "metadata": {},
   "outputs": [
    {
     "name": "stdout",
     "output_type": "stream",
     "text": [
      "Training Score : 0.8576986076986077\n",
      "Testing Score  : 0.8244321669736034\n"
     ]
    }
   ],
   "source": [
    "print(f'Training Score : {bag.score(X_train, y_train)}')\n",
    "print(f'Testing Score  : {bag.score(X_test, y_test)}')"
   ]
  },
  {
   "cell_type": "markdown",
   "metadata": {},
   "source": [
    "### Logistic Regression"
   ]
  },
  {
   "cell_type": "code",
   "execution_count": 21,
   "metadata": {},
   "outputs": [
    {
     "name": "stdout",
     "output_type": "stream",
     "text": [
      "Logistic Regression Training Score : 0.8357903357903358\n",
      "Logistic Regression Testing Score  : 0.8317986494782075\n",
      "Best Params: {'C': 0.5}\n"
     ]
    }
   ],
   "source": [
    "logreg = search_fit(LogisticRegression(), X, y,\n",
    "            params = {\n",
    "                'C' : [0.5],\n",
    "            },\n",
    "           name = \"Logistic Regression\", scale = True)"
   ]
  },
  {
   "cell_type": "code",
   "execution_count": 22,
   "metadata": {},
   "outputs": [],
   "source": [
    "bag = BaggingClassifier(base_estimator=LogisticRegression(C = 0.25, max_iter = 10000))"
   ]
  },
  {
   "cell_type": "code",
   "execution_count": 23,
   "metadata": {},
   "outputs": [
    {
     "data": {
      "text/plain": [
       "BaggingClassifier(base_estimator=LogisticRegression(C=0.25, class_weight=None,\n",
       "                                                    dual=False,\n",
       "                                                    fit_intercept=True,\n",
       "                                                    intercept_scaling=1,\n",
       "                                                    l1_ratio=None,\n",
       "                                                    max_iter=10000,\n",
       "                                                    multi_class='auto',\n",
       "                                                    n_jobs=None, penalty='l2',\n",
       "                                                    random_state=None,\n",
       "                                                    solver='lbfgs', tol=0.0001,\n",
       "                                                    verbose=0,\n",
       "                                                    warm_start=False),\n",
       "                  bootstrap=True, bootstrap_features=False, max_features=1.0,\n",
       "                  max_samples=1.0, n_estimators=10, n_jobs=None,\n",
       "                  oob_score=False, random_state=None, verbose=0,\n",
       "                  warm_start=False)"
      ]
     },
     "execution_count": 23,
     "metadata": {},
     "output_type": "execute_result"
    }
   ],
   "source": [
    "bag.fit(X_train, y_train)"
   ]
  },
  {
   "cell_type": "code",
   "execution_count": 24,
   "metadata": {},
   "outputs": [
    {
     "name": "stdout",
     "output_type": "stream",
     "text": [
      "Training Score : 0.8370188370188371\n",
      "Testing Score  : 0.8244321669736034\n"
     ]
    }
   ],
   "source": [
    "print(f'Training Score : {bag.score(X_train, y_train)}')\n",
    "print(f'Testing Score  : {bag.score(X_test, y_test)}')"
   ]
  },
  {
   "cell_type": "markdown",
   "metadata": {},
   "source": [
    "### KNN"
   ]
  },
  {
   "cell_type": "code",
   "execution_count": 25,
   "metadata": {},
   "outputs": [
    {
     "name": "stdout",
     "output_type": "stream",
     "text": [
      "KNN Training Score : 0.8327190827190827\n",
      "KNN Testing Score  : 0.8158379373848987\n",
      "Best Params: {'n_neighbors': 25}\n"
     ]
    }
   ],
   "source": [
    "knn = search_fit(KNeighborsClassifier(), X, y,\n",
    "            params = {\n",
    "                'n_neighbors' : [21,25],\n",
    "            },\n",
    "           name = \"KNN\", scale = True)"
   ]
  },
  {
   "cell_type": "code",
   "execution_count": 26,
   "metadata": {},
   "outputs": [],
   "source": [
    "bag = BaggingClassifier(base_estimator=KNeighborsClassifier(n_neighbors = 21))"
   ]
  },
  {
   "cell_type": "code",
   "execution_count": 27,
   "metadata": {},
   "outputs": [
    {
     "name": "stdout",
     "output_type": "stream",
     "text": [
      "Training Score : 0.814086814086814\n",
      "Testing Score  : 0.7900552486187845\n"
     ]
    }
   ],
   "source": [
    "#unscaled\n",
    "\n",
    "bag.fit(X_train, y_train)\n",
    "print(f'Training Score : {bag.score(X_train, y_train)}')\n",
    "print(f'Testing Score  : {bag.score(X_test, y_test)}')"
   ]
  },
  {
   "cell_type": "markdown",
   "metadata": {},
   "source": [
    "### SVC"
   ]
  },
  {
   "cell_type": "code",
   "execution_count": 28,
   "metadata": {},
   "outputs": [
    {
     "name": "stdout",
     "output_type": "stream",
     "text": [
      "SVC Training Score : 0.8527846027846028\n",
      "SVC Testing Score  : 0.8293431553100061\n",
      "Best Params: {}\n"
     ]
    }
   ],
   "source": [
    "svc = search_fit(SVC(), X, y,\n",
    "            params = {\n",
    "            },\n",
    "           name = \"SVC\", scale = True)"
   ]
  },
  {
   "cell_type": "code",
   "execution_count": 29,
   "metadata": {},
   "outputs": [],
   "source": [
    "bag = BaggingClassifier(base_estimator=SVC())"
   ]
  },
  {
   "cell_type": "code",
   "execution_count": 30,
   "metadata": {},
   "outputs": [
    {
     "name": "stdout",
     "output_type": "stream",
     "text": [
      "Training Score : 0.759009009009009\n",
      "Testing Score  : 0.7599754450583179\n"
     ]
    }
   ],
   "source": [
    "#unscaled\n",
    "\n",
    "bag.fit(X_train, y_train)\n",
    "print(f'Training Score : {bag.score(X_train, y_train)}')\n",
    "print(f'Testing Score  : {bag.score(X_test, y_test)}')"
   ]
  },
  {
   "cell_type": "markdown",
   "metadata": {},
   "source": [
    "### AdaBoost"
   ]
  },
  {
   "cell_type": "code",
   "execution_count": 31,
   "metadata": {},
   "outputs": [
    {
     "name": "stdout",
     "output_type": "stream",
     "text": [
      "AdaBoost Classifier Training Score : 0.8329238329238329\n",
      "AdaBoost Classifier Testing Score  : 0.8416206261510129\n",
      "Best Params: {'learning_rate': 0.4, 'n_estimators': 75}\n"
     ]
    }
   ],
   "source": [
    "Adaboost = search_fit(AdaBoostClassifier(random_state = 42), X, y,\n",
    "            params = {\n",
    "                'n_estimators': [25,50,75,100],\n",
    "                'learning_rate': [0.4,0.5,0.7]\n",
    "            },\n",
    "           name = \"AdaBoost Classifier\", scale = False)"
   ]
  },
  {
   "cell_type": "markdown",
   "metadata": {},
   "source": [
    "### Gradient Boost"
   ]
  },
  {
   "cell_type": "code",
   "execution_count": 32,
   "metadata": {},
   "outputs": [
    {
     "name": "stdout",
     "output_type": "stream",
     "text": [
      "GBoost Training Score : 0.8703931203931204\n",
      "GBoost Testing Score  : 0.8397790055248618\n",
      "Best Params: {'learning_rate': 0.12, 'max_depth': 4, 'n_estimators': 100, 'subsample': 1.0}\n"
     ]
    }
   ],
   "source": [
    "gboost = search_fit(GradientBoostingClassifier(random_state = 42), X, y,\n",
    "            params = {\n",
    "                'max_depth': [4],\n",
    "                'n_estimators': [100],\n",
    "                'learning_rate': [0.12],\n",
    "                'subsample': [1.0]\n",
    "            },\n",
    "           name = \"GBoost\", scale = False)"
   ]
  },
  {
   "cell_type": "markdown",
   "metadata": {},
   "source": [
    "### Naive-Bayes"
   ]
  },
  {
   "cell_type": "code",
   "execution_count": 33,
   "metadata": {},
   "outputs": [
    {
     "name": "stdout",
     "output_type": "stream",
     "text": [
      "nb Training Score : 0.8091728091728092\n",
      "nb Testing Score  : 0.8078575813382444\n",
      "Best Params: {}\n"
     ]
    }
   ],
   "source": [
    "nb = search_fit(MultinomialNB(), X, y,\n",
    "            params = {\n",
    "            },\n",
    "           name = \"nb\", scale = False)"
   ]
  },
  {
   "cell_type": "markdown",
   "metadata": {},
   "source": [
    "|                    | Decision Tree      | Random Forest      | Extra Trees        | Logistic Regression | KNN                | SVC                | AdaBoost           | Gradient Boost     | Naive-Bayes        |\n",
    "|--------------------|--------------------|--------------------|--------------------|---------------------|--------------------|--------------------|--------------------|--------------------|--------------------|\n",
    "| Train Score        | 0.8673218673218673 | 0.9232186732186732 | 0.895986895986896  | 0.855036855036855   | 0.8368140868140869 | 0.8693693693693694 | 0.8560606060606061 | 0.8931203931203932 | 0.7811220311220312 |\n",
    "| Test Score         | 0.8551258440761204 | 0.8655616942909761 | 0.8354818907305095 | 0.8471454880294659  | 0.8170656844689994 | 0.8440761203192142 | 0.8557397176181707 | 0.8686310620012277 | 0.7833026396562308 |\n",
    "| Bagged Train Score | 0.8734643734643734 | 0.9037674037674037 | 0.8705978705978706 | 0.8533988533988534  | 0.842956592956593  |                    |                    |                    |                    |\n",
    "| Bagged Test Score  | 0.856353591160221  | 0.8465316144874155 | 0.8268876611418048 | 0.8428483732351135  | 0.8084714548802947 |                    |                    |                    |                    |"
   ]
  },
  {
   "cell_type": "code",
   "execution_count": null,
   "metadata": {},
   "outputs": [],
   "source": []
  }
 ],
 "metadata": {
  "kernelspec": {
   "display_name": "Python 3",
   "language": "python",
   "name": "python3"
  },
  "language_info": {
   "codemirror_mode": {
    "name": "ipython",
    "version": 3
   },
   "file_extension": ".py",
   "mimetype": "text/x-python",
   "name": "python",
   "nbconvert_exporter": "python",
   "pygments_lexer": "ipython3",
   "version": "3.7.6"
  }
 },
 "nbformat": 4,
 "nbformat_minor": 4
}
