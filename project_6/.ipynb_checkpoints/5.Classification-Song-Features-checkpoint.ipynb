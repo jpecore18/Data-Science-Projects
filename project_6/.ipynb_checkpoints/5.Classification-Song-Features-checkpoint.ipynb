{
 "cells": [
  {
   "cell_type": "markdown",
   "metadata": {},
   "source": [
    "# 5. Classification Modeling - Song Attributes"
   ]
  },
  {
   "cell_type": "code",
   "execution_count": 1,
   "metadata": {},
   "outputs": [],
   "source": [
    "# imports\n",
    "import pandas as pd\n",
    "import numpy as np\n",
    "import matplotlib.pyplot as plt\n",
    "import seaborn as sns\n",
    "import requests\n",
    "import time\n",
    "import re\n",
    "\n",
    "# bs4, nltk, and sklearn imports\n",
    "from bs4 import BeautifulSoup   \n",
    "from nltk.tokenize import RegexpTokenizer\n",
    "from nltk.stem.porter import PorterStemmer\n",
    "from nltk.corpus import stopwords\n",
    "from sklearn import metrics\n",
    "from sklearn.linear_model import LinearRegression, LogisticRegression, Ridge, RidgeCV, Lasso, LassoCV\n",
    "from sklearn.model_selection import train_test_split, cross_val_score, GridSearchCV\n",
    "from sklearn.preprocessing import PolynomialFeatures, StandardScaler\n",
    "from sklearn.neighbors import KNeighborsClassifier, KNeighborsRegressor\n",
    "from sklearn.tree import DecisionTreeClassifier, DecisionTreeRegressor\n",
    "from sklearn.ensemble import BaggingRegressor, BaggingClassifier, RandomForestRegressor, RandomForestClassifier, AdaBoostClassifier, AdaBoostRegressor\n",
    "from sklearn.svm import SVC, SVR\n",
    "from sklearn import metrics\n",
    "from sklearn.feature_extraction.text import CountVectorizer, TfidfVectorizer\n",
    "from sklearn.pipeline import Pipeline\n",
    "from sklearn.naive_bayes import MultinomialNB\n",
    "from sklearn.metrics import confusion_matrix, plot_confusion_matrix\n",
    "from tensorflow.keras.models import Sequential\n",
    "from tensorflow.keras.layers import Dense\n",
    "from tensorflow.keras.utils import to_categorical\n",
    "\n",
    "#pd.set_option(\"display.max_rows\", None, \"display.max_columns\", None)"
   ]
  },
  {
   "cell_type": "code",
   "execution_count": 2,
   "metadata": {},
   "outputs": [],
   "source": [
    "giant_ordered_df = pd.read_csv('giant_ordered_df.csv')"
   ]
  },
  {
   "cell_type": "code",
   "execution_count": 3,
   "metadata": {},
   "outputs": [
    {
     "data": {
      "text/html": [
       "<div>\n",
       "<style scoped>\n",
       "    .dataframe tbody tr th:only-of-type {\n",
       "        vertical-align: middle;\n",
       "    }\n",
       "\n",
       "    .dataframe tbody tr th {\n",
       "        vertical-align: top;\n",
       "    }\n",
       "\n",
       "    .dataframe thead th {\n",
       "        text-align: right;\n",
       "    }\n",
       "</style>\n",
       "<table border=\"1\" class=\"dataframe\">\n",
       "  <thead>\n",
       "    <tr style=\"text-align: right;\">\n",
       "      <th></th>\n",
       "      <th>Unnamed: 0</th>\n",
       "      <th>artist</th>\n",
       "      <th>track_name</th>\n",
       "      <th>popularity</th>\n",
       "      <th>danceability</th>\n",
       "      <th>energy</th>\n",
       "      <th>loudness</th>\n",
       "      <th>mode</th>\n",
       "      <th>speechiness</th>\n",
       "      <th>instrumentalness</th>\n",
       "      <th>liveness</th>\n",
       "      <th>valence</th>\n",
       "      <th>tempo</th>\n",
       "      <th>duration_ms</th>\n",
       "      <th>time_signature</th>\n",
       "      <th>acousticness</th>\n",
       "      <th>genre</th>\n",
       "      <th>track_id</th>\n",
       "    </tr>\n",
       "  </thead>\n",
       "  <tbody>\n",
       "    <tr>\n",
       "      <th>0</th>\n",
       "      <td>0</td>\n",
       "      <td>24kGoldn</td>\n",
       "      <td>Mood (feat. Iann Dior)</td>\n",
       "      <td>100.0</td>\n",
       "      <td>0.700</td>\n",
       "      <td>0.722</td>\n",
       "      <td>-3.558</td>\n",
       "      <td>0</td>\n",
       "      <td>0.0369</td>\n",
       "      <td>0.000000</td>\n",
       "      <td>0.2720</td>\n",
       "      <td>0.756</td>\n",
       "      <td>90.989</td>\n",
       "      <td>140526</td>\n",
       "      <td>4</td>\n",
       "      <td>0.221</td>\n",
       "      <td>NaN</td>\n",
       "      <td>NaN</td>\n",
       "    </tr>\n",
       "    <tr>\n",
       "      <th>1</th>\n",
       "      <td>1</td>\n",
       "      <td>DaBaby</td>\n",
       "      <td>ROCKSTAR (feat. Roddy Ricch)</td>\n",
       "      <td>97.0</td>\n",
       "      <td>0.746</td>\n",
       "      <td>0.690</td>\n",
       "      <td>-7.956</td>\n",
       "      <td>1</td>\n",
       "      <td>0.1640</td>\n",
       "      <td>0.000000</td>\n",
       "      <td>0.1010</td>\n",
       "      <td>0.497</td>\n",
       "      <td>89.977</td>\n",
       "      <td>181733</td>\n",
       "      <td>4</td>\n",
       "      <td>0.247</td>\n",
       "      <td>NaN</td>\n",
       "      <td>NaN</td>\n",
       "    </tr>\n",
       "    <tr>\n",
       "      <th>2</th>\n",
       "      <td>2</td>\n",
       "      <td>Justin Bieber</td>\n",
       "      <td>Holy (feat. Chance The Rapper)</td>\n",
       "      <td>92.0</td>\n",
       "      <td>0.673</td>\n",
       "      <td>0.704</td>\n",
       "      <td>-8.056</td>\n",
       "      <td>1</td>\n",
       "      <td>0.3600</td>\n",
       "      <td>0.000000</td>\n",
       "      <td>0.0898</td>\n",
       "      <td>0.372</td>\n",
       "      <td>86.919</td>\n",
       "      <td>212093</td>\n",
       "      <td>4</td>\n",
       "      <td>0.196</td>\n",
       "      <td>NaN</td>\n",
       "      <td>NaN</td>\n",
       "    </tr>\n",
       "    <tr>\n",
       "      <th>3</th>\n",
       "      <td>3</td>\n",
       "      <td>Ariana Grande</td>\n",
       "      <td>Stuck with U (with Justin Bieber)</td>\n",
       "      <td>91.0</td>\n",
       "      <td>0.597</td>\n",
       "      <td>0.450</td>\n",
       "      <td>-6.658</td>\n",
       "      <td>1</td>\n",
       "      <td>0.0418</td>\n",
       "      <td>0.000000</td>\n",
       "      <td>0.3820</td>\n",
       "      <td>0.537</td>\n",
       "      <td>178.765</td>\n",
       "      <td>228482</td>\n",
       "      <td>3</td>\n",
       "      <td>0.223</td>\n",
       "      <td>NaN</td>\n",
       "      <td>NaN</td>\n",
       "    </tr>\n",
       "    <tr>\n",
       "      <th>4</th>\n",
       "      <td>4</td>\n",
       "      <td>salem ilese</td>\n",
       "      <td>Mad at Disney</td>\n",
       "      <td>88.0</td>\n",
       "      <td>0.738</td>\n",
       "      <td>0.621</td>\n",
       "      <td>-7.313</td>\n",
       "      <td>1</td>\n",
       "      <td>0.0486</td>\n",
       "      <td>0.000007</td>\n",
       "      <td>0.6920</td>\n",
       "      <td>0.715</td>\n",
       "      <td>113.968</td>\n",
       "      <td>136839</td>\n",
       "      <td>4</td>\n",
       "      <td>0.424</td>\n",
       "      <td>NaN</td>\n",
       "      <td>NaN</td>\n",
       "    </tr>\n",
       "  </tbody>\n",
       "</table>\n",
       "</div>"
      ],
      "text/plain": [
       "   Unnamed: 0         artist                         track_name  popularity  \\\n",
       "0           0       24kGoldn             Mood (feat. Iann Dior)       100.0   \n",
       "1           1         DaBaby       ROCKSTAR (feat. Roddy Ricch)        97.0   \n",
       "2           2  Justin Bieber     Holy (feat. Chance The Rapper)        92.0   \n",
       "3           3  Ariana Grande  Stuck with U (with Justin Bieber)        91.0   \n",
       "4           4    salem ilese                      Mad at Disney        88.0   \n",
       "\n",
       "   danceability  energy  loudness  mode  speechiness  instrumentalness  \\\n",
       "0         0.700   0.722    -3.558     0       0.0369          0.000000   \n",
       "1         0.746   0.690    -7.956     1       0.1640          0.000000   \n",
       "2         0.673   0.704    -8.056     1       0.3600          0.000000   \n",
       "3         0.597   0.450    -6.658     1       0.0418          0.000000   \n",
       "4         0.738   0.621    -7.313     1       0.0486          0.000007   \n",
       "\n",
       "   liveness  valence    tempo  duration_ms time_signature  acousticness genre  \\\n",
       "0    0.2720    0.756   90.989       140526              4         0.221   NaN   \n",
       "1    0.1010    0.497   89.977       181733              4         0.247   NaN   \n",
       "2    0.0898    0.372   86.919       212093              4         0.196   NaN   \n",
       "3    0.3820    0.537  178.765       228482              3         0.223   NaN   \n",
       "4    0.6920    0.715  113.968       136839              4         0.424   NaN   \n",
       "\n",
       "  track_id  \n",
       "0      NaN  \n",
       "1      NaN  \n",
       "2      NaN  \n",
       "3      NaN  \n",
       "4      NaN  "
      ]
     },
     "execution_count": 3,
     "metadata": {},
     "output_type": "execute_result"
    }
   ],
   "source": [
    "giant_ordered_df.head()"
   ]
  },
  {
   "cell_type": "code",
   "execution_count": 5,
   "metadata": {},
   "outputs": [],
   "source": [
    "giant_ordered_df.drop(columns=['Unnamed: 0'], inplace = True)"
   ]
  },
  {
   "cell_type": "code",
   "execution_count": 7,
   "metadata": {},
   "outputs": [
    {
     "data": {
      "text/html": [
       "<div>\n",
       "<style scoped>\n",
       "    .dataframe tbody tr th:only-of-type {\n",
       "        vertical-align: middle;\n",
       "    }\n",
       "\n",
       "    .dataframe tbody tr th {\n",
       "        vertical-align: top;\n",
       "    }\n",
       "\n",
       "    .dataframe thead th {\n",
       "        text-align: right;\n",
       "    }\n",
       "</style>\n",
       "<table border=\"1\" class=\"dataframe\">\n",
       "  <thead>\n",
       "    <tr style=\"text-align: right;\">\n",
       "      <th></th>\n",
       "      <th>artist</th>\n",
       "      <th>track_name</th>\n",
       "      <th>popularity</th>\n",
       "      <th>danceability</th>\n",
       "      <th>energy</th>\n",
       "      <th>loudness</th>\n",
       "      <th>mode</th>\n",
       "      <th>speechiness</th>\n",
       "      <th>instrumentalness</th>\n",
       "      <th>liveness</th>\n",
       "      <th>valence</th>\n",
       "      <th>tempo</th>\n",
       "      <th>duration_ms</th>\n",
       "      <th>time_signature</th>\n",
       "      <th>acousticness</th>\n",
       "      <th>genre</th>\n",
       "      <th>track_id</th>\n",
       "    </tr>\n",
       "  </thead>\n",
       "  <tbody>\n",
       "    <tr>\n",
       "      <th>0</th>\n",
       "      <td>24kGoldn</td>\n",
       "      <td>Mood (feat. Iann Dior)</td>\n",
       "      <td>1.0</td>\n",
       "      <td>0.700</td>\n",
       "      <td>0.722</td>\n",
       "      <td>-3.558</td>\n",
       "      <td>0</td>\n",
       "      <td>0.0369</td>\n",
       "      <td>0.000000</td>\n",
       "      <td>0.2720</td>\n",
       "      <td>0.756</td>\n",
       "      <td>90.989</td>\n",
       "      <td>140526</td>\n",
       "      <td>4</td>\n",
       "      <td>0.22100</td>\n",
       "      <td>NaN</td>\n",
       "      <td>NaN</td>\n",
       "    </tr>\n",
       "    <tr>\n",
       "      <th>1</th>\n",
       "      <td>DaBaby</td>\n",
       "      <td>ROCKSTAR (feat. Roddy Ricch)</td>\n",
       "      <td>1.0</td>\n",
       "      <td>0.746</td>\n",
       "      <td>0.690</td>\n",
       "      <td>-7.956</td>\n",
       "      <td>1</td>\n",
       "      <td>0.1640</td>\n",
       "      <td>0.000000</td>\n",
       "      <td>0.1010</td>\n",
       "      <td>0.497</td>\n",
       "      <td>89.977</td>\n",
       "      <td>181733</td>\n",
       "      <td>4</td>\n",
       "      <td>0.24700</td>\n",
       "      <td>NaN</td>\n",
       "      <td>NaN</td>\n",
       "    </tr>\n",
       "    <tr>\n",
       "      <th>2</th>\n",
       "      <td>Justin Bieber</td>\n",
       "      <td>Holy (feat. Chance The Rapper)</td>\n",
       "      <td>1.0</td>\n",
       "      <td>0.673</td>\n",
       "      <td>0.704</td>\n",
       "      <td>-8.056</td>\n",
       "      <td>1</td>\n",
       "      <td>0.3600</td>\n",
       "      <td>0.000000</td>\n",
       "      <td>0.0898</td>\n",
       "      <td>0.372</td>\n",
       "      <td>86.919</td>\n",
       "      <td>212093</td>\n",
       "      <td>4</td>\n",
       "      <td>0.19600</td>\n",
       "      <td>NaN</td>\n",
       "      <td>NaN</td>\n",
       "    </tr>\n",
       "    <tr>\n",
       "      <th>3</th>\n",
       "      <td>Ariana Grande</td>\n",
       "      <td>Stuck with U (with Justin Bieber)</td>\n",
       "      <td>1.0</td>\n",
       "      <td>0.597</td>\n",
       "      <td>0.450</td>\n",
       "      <td>-6.658</td>\n",
       "      <td>1</td>\n",
       "      <td>0.0418</td>\n",
       "      <td>0.000000</td>\n",
       "      <td>0.3820</td>\n",
       "      <td>0.537</td>\n",
       "      <td>178.765</td>\n",
       "      <td>228482</td>\n",
       "      <td>3</td>\n",
       "      <td>0.22300</td>\n",
       "      <td>NaN</td>\n",
       "      <td>NaN</td>\n",
       "    </tr>\n",
       "    <tr>\n",
       "      <th>4</th>\n",
       "      <td>salem ilese</td>\n",
       "      <td>Mad at Disney</td>\n",
       "      <td>1.0</td>\n",
       "      <td>0.738</td>\n",
       "      <td>0.621</td>\n",
       "      <td>-7.313</td>\n",
       "      <td>1</td>\n",
       "      <td>0.0486</td>\n",
       "      <td>0.000007</td>\n",
       "      <td>0.6920</td>\n",
       "      <td>0.715</td>\n",
       "      <td>113.968</td>\n",
       "      <td>136839</td>\n",
       "      <td>4</td>\n",
       "      <td>0.42400</td>\n",
       "      <td>NaN</td>\n",
       "      <td>NaN</td>\n",
       "    </tr>\n",
       "    <tr>\n",
       "      <th>...</th>\n",
       "      <td>...</td>\n",
       "      <td>...</td>\n",
       "      <td>...</td>\n",
       "      <td>...</td>\n",
       "      <td>...</td>\n",
       "      <td>...</td>\n",
       "      <td>...</td>\n",
       "      <td>...</td>\n",
       "      <td>...</td>\n",
       "      <td>...</td>\n",
       "      <td>...</td>\n",
       "      <td>...</td>\n",
       "      <td>...</td>\n",
       "      <td>...</td>\n",
       "      <td>...</td>\n",
       "      <td>...</td>\n",
       "      <td>...</td>\n",
       "    </tr>\n",
       "    <tr>\n",
       "      <th>146777</th>\n",
       "      <td>Barry White</td>\n",
       "      <td>Let The Music Play - Single Version</td>\n",
       "      <td>1.0</td>\n",
       "      <td>0.546</td>\n",
       "      <td>0.794</td>\n",
       "      <td>-6.134</td>\n",
       "      <td>1</td>\n",
       "      <td>0.0577</td>\n",
       "      <td>0.000000</td>\n",
       "      <td>0.1740</td>\n",
       "      <td>0.774</td>\n",
       "      <td>99.354</td>\n",
       "      <td>210387</td>\n",
       "      <td>4/4</td>\n",
       "      <td>0.02280</td>\n",
       "      <td>Soul</td>\n",
       "      <td>38N1GZG7AMdFaXLRTbwFc4</td>\n",
       "    </tr>\n",
       "    <tr>\n",
       "      <th>146834</th>\n",
       "      <td>Mura Masa</td>\n",
       "      <td>What If I Go? (feat. Bonzai)</td>\n",
       "      <td>1.0</td>\n",
       "      <td>0.560</td>\n",
       "      <td>0.533</td>\n",
       "      <td>-7.804</td>\n",
       "      <td>1</td>\n",
       "      <td>0.3880</td>\n",
       "      <td>0.000014</td>\n",
       "      <td>0.0919</td>\n",
       "      <td>0.908</td>\n",
       "      <td>200.066</td>\n",
       "      <td>195467</td>\n",
       "      <td>4/4</td>\n",
       "      <td>0.19400</td>\n",
       "      <td>Soul</td>\n",
       "      <td>2tHfNQnj50VoMZga2rpfdA</td>\n",
       "    </tr>\n",
       "    <tr>\n",
       "      <th>147063</th>\n",
       "      <td>Seinabo Sey</td>\n",
       "      <td>For You - Recorded At Spotify Studios Stockholm</td>\n",
       "      <td>1.0</td>\n",
       "      <td>0.409</td>\n",
       "      <td>0.379</td>\n",
       "      <td>-11.461</td>\n",
       "      <td>1</td>\n",
       "      <td>0.0329</td>\n",
       "      <td>0.027500</td>\n",
       "      <td>0.1010</td>\n",
       "      <td>0.080</td>\n",
       "      <td>117.946</td>\n",
       "      <td>205584</td>\n",
       "      <td>4/4</td>\n",
       "      <td>0.45300</td>\n",
       "      <td>Soul</td>\n",
       "      <td>4AHIgOApMmqVfpvc1hxK6x</td>\n",
       "    </tr>\n",
       "    <tr>\n",
       "      <th>147574</th>\n",
       "      <td>James Brown</td>\n",
       "      <td>Get Up (I Feel Like Being A) Sex Machine - Pts...</td>\n",
       "      <td>1.0</td>\n",
       "      <td>0.833</td>\n",
       "      <td>0.661</td>\n",
       "      <td>-7.595</td>\n",
       "      <td>0</td>\n",
       "      <td>0.1010</td>\n",
       "      <td>0.000149</td>\n",
       "      <td>0.2940</td>\n",
       "      <td>0.858</td>\n",
       "      <td>108.314</td>\n",
       "      <td>318800</td>\n",
       "      <td>4/4</td>\n",
       "      <td>0.27300</td>\n",
       "      <td>Soul</td>\n",
       "      <td>6hpmTwgNCz81H2bFEREx29</td>\n",
       "    </tr>\n",
       "    <tr>\n",
       "      <th>147760</th>\n",
       "      <td>Paloma Faith</td>\n",
       "      <td>Make Your Own Kind of Music</td>\n",
       "      <td>1.0</td>\n",
       "      <td>0.567</td>\n",
       "      <td>0.753</td>\n",
       "      <td>-4.823</td>\n",
       "      <td>1</td>\n",
       "      <td>0.0406</td>\n",
       "      <td>0.001830</td>\n",
       "      <td>0.1270</td>\n",
       "      <td>0.566</td>\n",
       "      <td>120.098</td>\n",
       "      <td>163840</td>\n",
       "      <td>4/4</td>\n",
       "      <td>0.00862</td>\n",
       "      <td>Soul</td>\n",
       "      <td>5jsFFhABp2FkasGr4QcQd6</td>\n",
       "    </tr>\n",
       "  </tbody>\n",
       "</table>\n",
       "<p>12119 rows × 17 columns</p>\n",
       "</div>"
      ],
      "text/plain": [
       "               artist                                         track_name  \\\n",
       "0            24kGoldn                             Mood (feat. Iann Dior)   \n",
       "1              DaBaby                       ROCKSTAR (feat. Roddy Ricch)   \n",
       "2       Justin Bieber                     Holy (feat. Chance The Rapper)   \n",
       "3       Ariana Grande                  Stuck with U (with Justin Bieber)   \n",
       "4         salem ilese                                      Mad at Disney   \n",
       "...               ...                                                ...   \n",
       "146777    Barry White                Let The Music Play - Single Version   \n",
       "146834      Mura Masa                       What If I Go? (feat. Bonzai)   \n",
       "147063    Seinabo Sey    For You - Recorded At Spotify Studios Stockholm   \n",
       "147574    James Brown  Get Up (I Feel Like Being A) Sex Machine - Pts...   \n",
       "147760   Paloma Faith                        Make Your Own Kind of Music   \n",
       "\n",
       "        popularity  danceability  energy  loudness  mode  speechiness  \\\n",
       "0              1.0         0.700   0.722    -3.558     0       0.0369   \n",
       "1              1.0         0.746   0.690    -7.956     1       0.1640   \n",
       "2              1.0         0.673   0.704    -8.056     1       0.3600   \n",
       "3              1.0         0.597   0.450    -6.658     1       0.0418   \n",
       "4              1.0         0.738   0.621    -7.313     1       0.0486   \n",
       "...            ...           ...     ...       ...   ...          ...   \n",
       "146777         1.0         0.546   0.794    -6.134     1       0.0577   \n",
       "146834         1.0         0.560   0.533    -7.804     1       0.3880   \n",
       "147063         1.0         0.409   0.379   -11.461     1       0.0329   \n",
       "147574         1.0         0.833   0.661    -7.595     0       0.1010   \n",
       "147760         1.0         0.567   0.753    -4.823     1       0.0406   \n",
       "\n",
       "        instrumentalness  liveness  valence    tempo  duration_ms  \\\n",
       "0               0.000000    0.2720    0.756   90.989       140526   \n",
       "1               0.000000    0.1010    0.497   89.977       181733   \n",
       "2               0.000000    0.0898    0.372   86.919       212093   \n",
       "3               0.000000    0.3820    0.537  178.765       228482   \n",
       "4               0.000007    0.6920    0.715  113.968       136839   \n",
       "...                  ...       ...      ...      ...          ...   \n",
       "146777          0.000000    0.1740    0.774   99.354       210387   \n",
       "146834          0.000014    0.0919    0.908  200.066       195467   \n",
       "147063          0.027500    0.1010    0.080  117.946       205584   \n",
       "147574          0.000149    0.2940    0.858  108.314       318800   \n",
       "147760          0.001830    0.1270    0.566  120.098       163840   \n",
       "\n",
       "       time_signature  acousticness genre                track_id  \n",
       "0                   4       0.22100   NaN                     NaN  \n",
       "1                   4       0.24700   NaN                     NaN  \n",
       "2                   4       0.19600   NaN                     NaN  \n",
       "3                   3       0.22300   NaN                     NaN  \n",
       "4                   4       0.42400   NaN                     NaN  \n",
       "...               ...           ...   ...                     ...  \n",
       "146777            4/4       0.02280  Soul  38N1GZG7AMdFaXLRTbwFc4  \n",
       "146834            4/4       0.19400  Soul  2tHfNQnj50VoMZga2rpfdA  \n",
       "147063            4/4       0.45300  Soul  4AHIgOApMmqVfpvc1hxK6x  \n",
       "147574            4/4       0.27300  Soul  6hpmTwgNCz81H2bFEREx29  \n",
       "147760            4/4       0.00862  Soul  5jsFFhABp2FkasGr4QcQd6  \n",
       "\n",
       "[12119 rows x 17 columns]"
      ]
     },
     "execution_count": 7,
     "metadata": {},
     "output_type": "execute_result"
    }
   ],
   "source": [
    "giant_ordered_df.loc[giant_ordered_df['popularity'] < 75, 'popularity'] = 0 \n",
    "giant_ordered_df.loc[giant_ordered_df['popularity'] >= 75, 'popularity'] = 1\n",
    "giant_ordered_df.loc[giant_ordered_df['popularity'] == 1]"
   ]
  },
  {
   "cell_type": "code",
   "execution_count": 9,
   "metadata": {},
   "outputs": [],
   "source": [
    "song_features = ['danceability','energy','loudness','speechiness',\n",
    "                 'instrumentalness', 'liveness', 'valence', 'tempo',\n",
    "                'mode','duration_ms','acousticness']"
   ]
  },
  {
   "cell_type": "code",
   "execution_count": 10,
   "metadata": {},
   "outputs": [],
   "source": [
    "X = giant_ordered_df[song_features]\n",
    "y = giant_ordered_df['popularity']"
   ]
  },
  {
   "cell_type": "code",
   "execution_count": 11,
   "metadata": {},
   "outputs": [],
   "source": [
    "X_train, X_test, y_train, y_test = train_test_split(X,y,random_state=42)"
   ]
  },
  {
   "cell_type": "code",
   "execution_count": 12,
   "metadata": {},
   "outputs": [
    {
     "data": {
      "text/plain": [
       "StandardScaler(copy=True, with_mean=True, with_std=True)"
      ]
     },
     "execution_count": 12,
     "metadata": {},
     "output_type": "execute_result"
    }
   ],
   "source": [
    "ss = StandardScaler()\n",
    "\n",
    "ss.fit(X_train)"
   ]
  },
  {
   "cell_type": "code",
   "execution_count": 13,
   "metadata": {},
   "outputs": [
    {
     "data": {
      "text/plain": [
       "array([ 5.35325609e-01,  5.52412494e-01, -1.03837744e+01,  1.30586814e-01,\n",
       "        1.81814032e-01,  2.28840493e-01,  4.48077030e-01,  1.16875990e+02,\n",
       "        6.59435697e-01,  2.38089986e+05,  4.15185764e-01])"
      ]
     },
     "execution_count": 13,
     "metadata": {},
     "output_type": "execute_result"
    }
   ],
   "source": [
    "ss.mean_"
   ]
  },
  {
   "cell_type": "code",
   "execution_count": 14,
   "metadata": {},
   "outputs": [
    {
     "data": {
      "text/plain": [
       "array([1.92945673e-01, 2.80765585e-01, 6.61821203e+00, 2.09619451e-01,\n",
       "       3.30021555e-01, 2.15407953e-01, 2.69815537e-01, 3.13832880e+01,\n",
       "       4.73898996e-01, 1.35739670e+05, 3.70701445e-01])"
      ]
     },
     "execution_count": 14,
     "metadata": {},
     "output_type": "execute_result"
    }
   ],
   "source": [
    "ss.scale_"
   ]
  },
  {
   "cell_type": "code",
   "execution_count": 15,
   "metadata": {},
   "outputs": [],
   "source": [
    "X_train_sc = ss.transform(X_train)\n",
    "X_test_sc = ss.transform(X_test)"
   ]
  },
  {
   "cell_type": "markdown",
   "metadata": {},
   "source": [
    "### Logistic Regression"
   ]
  },
  {
   "cell_type": "code",
   "execution_count": 16,
   "metadata": {},
   "outputs": [],
   "source": [
    "logreg = LogisticRegression()"
   ]
  },
  {
   "cell_type": "code",
   "execution_count": 17,
   "metadata": {},
   "outputs": [
    {
     "data": {
      "text/plain": [
       "LogisticRegression(C=1.0, class_weight=None, dual=False, fit_intercept=True,\n",
       "                   intercept_scaling=1, l1_ratio=None, max_iter=100,\n",
       "                   multi_class='auto', n_jobs=None, penalty='l2',\n",
       "                   random_state=None, solver='lbfgs', tol=0.0001, verbose=0,\n",
       "                   warm_start=False)"
      ]
     },
     "execution_count": 17,
     "metadata": {},
     "output_type": "execute_result"
    }
   ],
   "source": [
    "logreg.fit(X_train_sc,y_train)"
   ]
  },
  {
   "cell_type": "code",
   "execution_count": 18,
   "metadata": {},
   "outputs": [
    {
     "name": "stdout",
     "output_type": "stream",
     "text": [
      "Training Score: 0.9181267662494954\n",
      "Testing Score: 0.919364823038622\n"
     ]
    }
   ],
   "source": [
    "print(f'Training Score: {logreg.score(X_train_sc, y_train)}')\n",
    "print(f'Testing Score: {logreg.score(X_test_sc, y_test)}')"
   ]
  },
  {
   "cell_type": "code",
   "execution_count": 19,
   "metadata": {},
   "outputs": [],
   "source": [
    "logregpred = logreg.predict(X)\n",
    "logregtrainpred = logreg.predict(X_train)\n",
    "logregtestpred = logreg.predict(X_test)"
   ]
  },
  {
   "cell_type": "code",
   "execution_count": 20,
   "metadata": {},
   "outputs": [
    {
     "name": "stdout",
     "output_type": "stream",
     "text": [
      "RMSE: 0.2855582844967111\n",
      "Train RMSE: 0.28608795758032207\n",
      "Test RMSE: 0.28396333735427537\n"
     ]
    }
   ],
   "source": [
    "print('RMSE:', metrics.mean_squared_error(y, logregpred, squared=False))\n",
    "print('Train RMSE:', metrics.mean_squared_error(y_train, logregtrainpred, squared=False))\n",
    "print('Test RMSE:', metrics.mean_squared_error(y_test, logregtestpred, squared=False))"
   ]
  },
  {
   "cell_type": "code",
   "execution_count": 53,
   "metadata": {},
   "outputs": [
    {
     "data": {
      "text/plain": [
       "[(array([ 0.48014278, -0.45208466,  0.97244694, -0.10224009, -0.65194876,\n",
       "         -0.2298196 , -0.26349343,  0.06483289, -0.04195999, -0.16050297,\n",
       "         -0.25052967]),\n",
       "  'danceability')]"
      ]
     },
     "execution_count": 53,
     "metadata": {},
     "output_type": "execute_result"
    }
   ],
   "source": [
    "list(zip(logreg.coef_,X_train.columns))"
   ]
  },
  {
   "cell_type": "markdown",
   "metadata": {},
   "source": [
    "### KNN"
   ]
  },
  {
   "cell_type": "code",
   "execution_count": 21,
   "metadata": {},
   "outputs": [],
   "source": [
    "knn = KNeighborsClassifier()"
   ]
  },
  {
   "cell_type": "code",
   "execution_count": 22,
   "metadata": {},
   "outputs": [
    {
     "data": {
      "text/plain": [
       "KNeighborsClassifier(algorithm='auto', leaf_size=30, metric='minkowski',\n",
       "                     metric_params=None, n_jobs=None, n_neighbors=5, p=2,\n",
       "                     weights='uniform')"
      ]
     },
     "execution_count": 22,
     "metadata": {},
     "output_type": "execute_result"
    }
   ],
   "source": [
    "knn.fit(X_train_sc,y_train)"
   ]
  },
  {
   "cell_type": "code",
   "execution_count": 23,
   "metadata": {},
   "outputs": [
    {
     "name": "stdout",
     "output_type": "stream",
     "text": [
      "Training Score: 0.9233212219082223\n",
      "Testing Score: 0.9102139685102947\n"
     ]
    }
   ],
   "source": [
    "print(f'Training Score: {knn.score(X_train_sc, y_train)}')\n",
    "print(f'Testing Score: {knn.score(X_test_sc, y_test)}')"
   ]
  },
  {
   "cell_type": "code",
   "execution_count": 24,
   "metadata": {},
   "outputs": [],
   "source": [
    "knnpred = knn.predict(X)\n",
    "knntrainpred = knn.predict(X_train)\n",
    "knntestpred = knn.predict(X_test)"
   ]
  },
  {
   "cell_type": "code",
   "execution_count": 25,
   "metadata": {},
   "outputs": [
    {
     "name": "stdout",
     "output_type": "stream",
     "text": [
      "RMSE: 0.2855582844967111\n",
      "Train RMSE: 0.28608795758032207\n",
      "Test RMSE: 0.28396333735427537\n"
     ]
    }
   ],
   "source": [
    "print('RMSE:', metrics.mean_squared_error(y, knnpred, squared=False))\n",
    "print('Train RMSE:', metrics.mean_squared_error(y_train, knntrainpred, squared=False))\n",
    "print('Test RMSE:', metrics.mean_squared_error(y_test, knntestpred, squared=False))"
   ]
  },
  {
   "cell_type": "markdown",
   "metadata": {},
   "source": [
    "### Decision Tree"
   ]
  },
  {
   "cell_type": "code",
   "execution_count": 26,
   "metadata": {},
   "outputs": [],
   "source": [
    "dt = DecisionTreeClassifier(random_state=42)"
   ]
  },
  {
   "cell_type": "code",
   "execution_count": 27,
   "metadata": {},
   "outputs": [
    {
     "data": {
      "text/plain": [
       "DecisionTreeClassifier(ccp_alpha=0.0, class_weight=None, criterion='gini',\n",
       "                       max_depth=None, max_features=None, max_leaf_nodes=None,\n",
       "                       min_impurity_decrease=0.0, min_impurity_split=None,\n",
       "                       min_samples_leaf=1, min_samples_split=2,\n",
       "                       min_weight_fraction_leaf=0.0, presort='deprecated',\n",
       "                       random_state=42, splitter='best')"
      ]
     },
     "execution_count": 27,
     "metadata": {},
     "output_type": "execute_result"
    }
   ],
   "source": [
    "dt.fit(X_train_sc, y_train)"
   ]
  },
  {
   "cell_type": "code",
   "execution_count": 28,
   "metadata": {},
   "outputs": [
    {
     "name": "stdout",
     "output_type": "stream",
     "text": [
      "Training Score: 0.9996680572376979\n",
      "Testing Score: 0.8595074687121518\n"
     ]
    }
   ],
   "source": [
    "print(f'Training Score: {dt.score(X_train_sc, y_train)}')\n",
    "print(f'Testing Score: {dt.score(X_test_sc, y_test)}')"
   ]
  },
  {
   "cell_type": "code",
   "execution_count": 29,
   "metadata": {},
   "outputs": [],
   "source": [
    "dtpred = dt.predict(X)\n",
    "dttrainpred = dt.predict(X_train)\n",
    "dttestpred = dt.predict(X_test)"
   ]
  },
  {
   "cell_type": "code",
   "execution_count": 30,
   "metadata": {},
   "outputs": [
    {
     "name": "stdout",
     "output_type": "stream",
     "text": [
      "RMSE: 0.28923399639327885\n",
      "Train RMSE: 0.28974920980806607\n",
      "Test RMSE: 0.28768282000375495\n"
     ]
    }
   ],
   "source": [
    "print('RMSE:', metrics.mean_squared_error(y, dtpred, squared=False))\n",
    "print('Train RMSE:', metrics.mean_squared_error(y_train, dttrainpred, squared=False))\n",
    "print('Test RMSE:', metrics.mean_squared_error(y_test, dttestpred, squared=False))"
   ]
  },
  {
   "cell_type": "markdown",
   "metadata": {},
   "source": [
    "### Bagged Decision Trees"
   ]
  },
  {
   "cell_type": "code",
   "execution_count": 31,
   "metadata": {},
   "outputs": [],
   "source": [
    "bag = BaggingClassifier(random_state=42, n_estimators=100) "
   ]
  },
  {
   "cell_type": "code",
   "execution_count": 32,
   "metadata": {},
   "outputs": [
    {
     "data": {
      "text/plain": [
       "BaggingClassifier(base_estimator=None, bootstrap=True, bootstrap_features=False,\n",
       "                  max_features=1.0, max_samples=1.0, n_estimators=100,\n",
       "                  n_jobs=None, oob_score=False, random_state=42, verbose=0,\n",
       "                  warm_start=False)"
      ]
     },
     "execution_count": 32,
     "metadata": {},
     "output_type": "execute_result"
    }
   ],
   "source": [
    "bag.fit(X_train_sc, y_train)"
   ]
  },
  {
   "cell_type": "code",
   "execution_count": 33,
   "metadata": {},
   "outputs": [
    {
     "name": "stdout",
     "output_type": "stream",
     "text": [
      "Training Score: 0.9996411429596734\n",
      "Testing Score: 0.9189072803122056\n"
     ]
    }
   ],
   "source": [
    "print(f'Training Score: {bag.score(X_train_sc, y_train)}')\n",
    "print(f'Testing Score: {bag.score(X_test_sc, y_test)}')"
   ]
  },
  {
   "cell_type": "code",
   "execution_count": 34,
   "metadata": {},
   "outputs": [],
   "source": [
    "bagpred = bag.predict(X)\n",
    "bagtrainpred = bag.predict(X_train)\n",
    "bagtestpred = bag.predict(X_test)"
   ]
  },
  {
   "cell_type": "code",
   "execution_count": 35,
   "metadata": {},
   "outputs": [
    {
     "name": "stdout",
     "output_type": "stream",
     "text": [
      "RMSE: 0.2855582844967111\n",
      "Train RMSE: 0.28608795758032207\n",
      "Test RMSE: 0.28396333735427537\n"
     ]
    }
   ],
   "source": [
    "print('RMSE:', metrics.mean_squared_error(y, bagpred, squared=False))\n",
    "print('Train RMSE:', metrics.mean_squared_error(y_train, bagtrainpred, squared=False))\n",
    "print('Test RMSE:', metrics.mean_squared_error(y_test, bagtestpred, squared=False))"
   ]
  },
  {
   "cell_type": "markdown",
   "metadata": {},
   "source": [
    "### Random Forest"
   ]
  },
  {
   "cell_type": "code",
   "execution_count": 36,
   "metadata": {},
   "outputs": [],
   "source": [
    "rfc = RandomForestClassifier(random_state=42) "
   ]
  },
  {
   "cell_type": "code",
   "execution_count": 37,
   "metadata": {},
   "outputs": [
    {
     "data": {
      "text/plain": [
       "RandomForestClassifier(bootstrap=True, ccp_alpha=0.0, class_weight=None,\n",
       "                       criterion='gini', max_depth=None, max_features='auto',\n",
       "                       max_leaf_nodes=None, max_samples=None,\n",
       "                       min_impurity_decrease=0.0, min_impurity_split=None,\n",
       "                       min_samples_leaf=1, min_samples_split=2,\n",
       "                       min_weight_fraction_leaf=0.0, n_estimators=100,\n",
       "                       n_jobs=None, oob_score=False, random_state=42, verbose=0,\n",
       "                       warm_start=False)"
      ]
     },
     "execution_count": 37,
     "metadata": {},
     "output_type": "execute_result"
    }
   ],
   "source": [
    "rfc.fit(X_train_sc, y_train)"
   ]
  },
  {
   "cell_type": "code",
   "execution_count": 38,
   "metadata": {},
   "outputs": [
    {
     "name": "stdout",
     "output_type": "stream",
     "text": [
      "Training Score: 0.9996321715336652\n",
      "Testing Score: 0.919310994482573\n"
     ]
    }
   ],
   "source": [
    "print(f'Training Score: {rfc.score(X_train_sc, y_train)}')\n",
    "print(f'Testing Score: {rfc.score(X_test_sc, y_test)}')"
   ]
  },
  {
   "cell_type": "code",
   "execution_count": 39,
   "metadata": {},
   "outputs": [],
   "source": [
    "rfcpred = rfc.predict(X)\n",
    "rfctrainpred = rfc.predict(X_train)\n",
    "rfctestpred = rfc.predict(X_test)"
   ]
  },
  {
   "cell_type": "code",
   "execution_count": 40,
   "metadata": {},
   "outputs": [
    {
     "name": "stdout",
     "output_type": "stream",
     "text": [
      "RMSE: 0.2855582844967111\n",
      "Train RMSE: 0.28608795758032207\n",
      "Test RMSE: 0.28396333735427537\n"
     ]
    }
   ],
   "source": [
    "print('RMSE:', metrics.mean_squared_error(y, rfcpred, squared=False))\n",
    "print('Train RMSE:', metrics.mean_squared_error(y_train, rfctrainpred, squared=False))\n",
    "print('Test RMSE:', metrics.mean_squared_error(y_test, rfctestpred, squared=False))"
   ]
  },
  {
   "cell_type": "markdown",
   "metadata": {},
   "source": [
    "### AdaBoost"
   ]
  },
  {
   "cell_type": "code",
   "execution_count": 41,
   "metadata": {},
   "outputs": [],
   "source": [
    "AdaBoost = AdaBoostClassifier(random_state=42)"
   ]
  },
  {
   "cell_type": "code",
   "execution_count": 42,
   "metadata": {},
   "outputs": [
    {
     "data": {
      "text/plain": [
       "AdaBoostClassifier(algorithm='SAMME.R', base_estimator=None, learning_rate=1.0,\n",
       "                   n_estimators=50, random_state=42)"
      ]
     },
     "execution_count": 42,
     "metadata": {},
     "output_type": "execute_result"
    }
   ],
   "source": [
    "AdaBoost.fit(X_train_sc, y_train)"
   ]
  },
  {
   "cell_type": "code",
   "execution_count": 43,
   "metadata": {},
   "outputs": [
    {
     "name": "stdout",
     "output_type": "stream",
     "text": [
      "Training Score: 0.9181447091015117\n",
      "Testing Score: 0.9193379087605975\n"
     ]
    }
   ],
   "source": [
    "print(f'Training Score: {AdaBoost.score(X_train_sc, y_train)}')\n",
    "print(f'Testing Score: {AdaBoost.score(X_test_sc, y_test)}')"
   ]
  },
  {
   "cell_type": "code",
   "execution_count": 44,
   "metadata": {},
   "outputs": [],
   "source": [
    "AdaBoostpred = AdaBoost.predict(X)\n",
    "AdaBoosttrainpred = AdaBoost.predict(X_train)\n",
    "AdaBoosttestpred = AdaBoost.predict(X_test)"
   ]
  },
  {
   "cell_type": "code",
   "execution_count": 45,
   "metadata": {},
   "outputs": [
    {
     "name": "stdout",
     "output_type": "stream",
     "text": [
      "RMSE: 0.2855582844967111\n",
      "Train RMSE: 0.28608795758032207\n",
      "Test RMSE: 0.28396333735427537\n"
     ]
    }
   ],
   "source": [
    "print('RMSE:', metrics.mean_squared_error(y, AdaBoostpred, squared=False))\n",
    "print('Train RMSE:', metrics.mean_squared_error(y_train, AdaBoosttrainpred, squared=False))\n",
    "print('Test RMSE:', metrics.mean_squared_error(y_test, AdaBoosttestpred, squared=False))"
   ]
  }
 ],
 "metadata": {
  "kernelspec": {
   "display_name": "Python 3",
   "language": "python",
   "name": "python3"
  },
  "language_info": {
   "codemirror_mode": {
    "name": "ipython",
    "version": 3
   },
   "file_extension": ".py",
   "mimetype": "text/x-python",
   "name": "python",
   "nbconvert_exporter": "python",
   "pygments_lexer": "ipython3",
   "version": "3.7.6"
  }
 },
 "nbformat": 4,
 "nbformat_minor": 4
}
