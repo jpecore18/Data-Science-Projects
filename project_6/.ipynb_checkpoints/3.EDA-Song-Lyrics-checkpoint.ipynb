{
 "cells": [
  {
   "cell_type": "markdown",
   "metadata": {},
   "source": [
    "# 3. Exploratory Data Analysis - Song Lyrics"
   ]
  },
  {
   "cell_type": "markdown",
   "metadata": {},
   "source": [
    "# Standard Imports"
   ]
  },
  {
   "cell_type": "code",
   "execution_count": 31,
   "metadata": {},
   "outputs": [],
   "source": [
    "# imports\n",
    "import pandas as pd\n",
    "import numpy as np\n",
    "import matplotlib.pyplot as plt\n",
    "import seaborn as sns\n",
    "import requests\n",
    "import time\n",
    "import re\n",
    "\n",
    "# bs4, nltk, and sklearn imports\n",
    "from bs4 import BeautifulSoup   \n",
    "from nltk.tokenize import RegexpTokenizer\n",
    "from nltk.stem.porter import PorterStemmer\n",
    "from nltk.corpus import stopwords\n",
    "from sklearn import metrics\n",
    "from sklearn.model_selection import train_test_split, cross_val_score, GridSearchCV\n",
    "from sklearn.preprocessing import PolynomialFeatures, StandardScaler\n",
    "from sklearn.feature_extraction.text import CountVectorizer, TfidfVectorizer"
   ]
  },
  {
   "cell_type": "code",
   "execution_count": 32,
   "metadata": {},
   "outputs": [
    {
     "data": {
      "text/html": [
       "<div>\n",
       "<style scoped>\n",
       "    .dataframe tbody tr th:only-of-type {\n",
       "        vertical-align: middle;\n",
       "    }\n",
       "\n",
       "    .dataframe tbody tr th {\n",
       "        vertical-align: top;\n",
       "    }\n",
       "\n",
       "    .dataframe thead th {\n",
       "        text-align: right;\n",
       "    }\n",
       "</style>\n",
       "<table border=\"1\" class=\"dataframe\">\n",
       "  <thead>\n",
       "    <tr style=\"text-align: right;\">\n",
       "      <th></th>\n",
       "      <th>index</th>\n",
       "      <th>artist</th>\n",
       "      <th>album</th>\n",
       "      <th>track_name</th>\n",
       "      <th>track_id</th>\n",
       "      <th>danceability</th>\n",
       "      <th>energy</th>\n",
       "      <th>key</th>\n",
       "      <th>loudness</th>\n",
       "      <th>mode</th>\n",
       "      <th>speechiness</th>\n",
       "      <th>instrumentalness</th>\n",
       "      <th>liveness</th>\n",
       "      <th>valence</th>\n",
       "      <th>tempo</th>\n",
       "      <th>duration_ms</th>\n",
       "      <th>time_signature</th>\n",
       "      <th>acousticness</th>\n",
       "      <th>popularity</th>\n",
       "      <th>lyrics</th>\n",
       "    </tr>\n",
       "  </thead>\n",
       "  <tbody>\n",
       "    <tr>\n",
       "      <th>0</th>\n",
       "      <td>0</td>\n",
       "      <td>24kGoldn</td>\n",
       "      <td>Mood (feat. Iann Dior)</td>\n",
       "      <td>Mood (feat. Iann Dior)</td>\n",
       "      <td>3tjFYV6RSFtuktYl3ZtYcq</td>\n",
       "      <td>0.700</td>\n",
       "      <td>0.722</td>\n",
       "      <td>7</td>\n",
       "      <td>-3.558</td>\n",
       "      <td>0</td>\n",
       "      <td>0.0369</td>\n",
       "      <td>0.000000</td>\n",
       "      <td>0.2720</td>\n",
       "      <td>0.756</td>\n",
       "      <td>90.989</td>\n",
       "      <td>140526</td>\n",
       "      <td>4</td>\n",
       "      <td>0.221</td>\n",
       "      <td>100.0</td>\n",
       "      <td>kgoldn kgoldn always mood fuckin round actin b...</td>\n",
       "    </tr>\n",
       "    <tr>\n",
       "      <th>1</th>\n",
       "      <td>1</td>\n",
       "      <td>DaBaby</td>\n",
       "      <td>BLAME IT ON BABY</td>\n",
       "      <td>ROCKSTAR (feat. Roddy Ricch)</td>\n",
       "      <td>7ytR5pFWmSjzHJIeQkgog4</td>\n",
       "      <td>0.746</td>\n",
       "      <td>0.690</td>\n",
       "      <td>11</td>\n",
       "      <td>-7.956</td>\n",
       "      <td>1</td>\n",
       "      <td>0.1640</td>\n",
       "      <td>0.000000</td>\n",
       "      <td>0.1010</td>\n",
       "      <td>0.497</td>\n",
       "      <td>89.977</td>\n",
       "      <td>181733</td>\n",
       "      <td>4</td>\n",
       "      <td>0.247</td>\n",
       "      <td>96.0</td>\n",
       "      <td>dababy woo woo pull pull pull baby pull pull p...</td>\n",
       "    </tr>\n",
       "    <tr>\n",
       "      <th>2</th>\n",
       "      <td>2</td>\n",
       "      <td>Justin Bieber</td>\n",
       "      <td>Holy</td>\n",
       "      <td>Holy (feat. Chance The Rapper)</td>\n",
       "      <td>5u1n1kITHCxxp8twBcZxWy</td>\n",
       "      <td>0.673</td>\n",
       "      <td>0.704</td>\n",
       "      <td>6</td>\n",
       "      <td>-8.056</td>\n",
       "      <td>1</td>\n",
       "      <td>0.3600</td>\n",
       "      <td>0.000000</td>\n",
       "      <td>0.0898</td>\n",
       "      <td>0.372</td>\n",
       "      <td>86.919</td>\n",
       "      <td>212093</td>\n",
       "      <td>4</td>\n",
       "      <td>0.196</td>\n",
       "      <td>93.0</td>\n",
       "      <td>justin bieber hear lot sinners saint might riv...</td>\n",
       "    </tr>\n",
       "    <tr>\n",
       "      <th>3</th>\n",
       "      <td>3</td>\n",
       "      <td>Ariana Grande</td>\n",
       "      <td>Stuck with U</td>\n",
       "      <td>Stuck with U (with Justin Bieber)</td>\n",
       "      <td>4HBZA5flZLE435QTztThqH</td>\n",
       "      <td>0.597</td>\n",
       "      <td>0.450</td>\n",
       "      <td>8</td>\n",
       "      <td>-6.658</td>\n",
       "      <td>1</td>\n",
       "      <td>0.0418</td>\n",
       "      <td>0.000000</td>\n",
       "      <td>0.3820</td>\n",
       "      <td>0.537</td>\n",
       "      <td>178.765</td>\n",
       "      <td>228482</td>\n",
       "      <td>3</td>\n",
       "      <td>0.223</td>\n",
       "      <td>90.0</td>\n",
       "      <td>ariana grande mmm hey fun stuck ariana grande ...</td>\n",
       "    </tr>\n",
       "    <tr>\n",
       "      <th>4</th>\n",
       "      <td>4</td>\n",
       "      <td>Pop Smoke</td>\n",
       "      <td>Shoot For The Stars Aim For The Moon</td>\n",
       "      <td>What You Know Bout Love</td>\n",
       "      <td>1tkg4EHVoqnhR6iFEXb60y</td>\n",
       "      <td>0.709</td>\n",
       "      <td>0.548</td>\n",
       "      <td>10</td>\n",
       "      <td>-8.493</td>\n",
       "      <td>1</td>\n",
       "      <td>0.3530</td>\n",
       "      <td>0.000002</td>\n",
       "      <td>0.1330</td>\n",
       "      <td>0.543</td>\n",
       "      <td>83.995</td>\n",
       "      <td>160000</td>\n",
       "      <td>4</td>\n",
       "      <td>0.650</td>\n",
       "      <td>88.0</td>\n",
       "      <td>uh shawty jogging every morning every morning ...</td>\n",
       "    </tr>\n",
       "  </tbody>\n",
       "</table>\n",
       "</div>"
      ],
      "text/plain": [
       "   index         artist                                 album  \\\n",
       "0      0       24kGoldn                Mood (feat. Iann Dior)   \n",
       "1      1         DaBaby                      BLAME IT ON BABY   \n",
       "2      2  Justin Bieber                                  Holy   \n",
       "3      3  Ariana Grande                          Stuck with U   \n",
       "4      4      Pop Smoke  Shoot For The Stars Aim For The Moon   \n",
       "\n",
       "                          track_name                track_id  danceability  \\\n",
       "0             Mood (feat. Iann Dior)  3tjFYV6RSFtuktYl3ZtYcq         0.700   \n",
       "1       ROCKSTAR (feat. Roddy Ricch)  7ytR5pFWmSjzHJIeQkgog4         0.746   \n",
       "2     Holy (feat. Chance The Rapper)  5u1n1kITHCxxp8twBcZxWy         0.673   \n",
       "3  Stuck with U (with Justin Bieber)  4HBZA5flZLE435QTztThqH         0.597   \n",
       "4            What You Know Bout Love  1tkg4EHVoqnhR6iFEXb60y         0.709   \n",
       "\n",
       "   energy  key  loudness  mode  speechiness  instrumentalness  liveness  \\\n",
       "0   0.722    7    -3.558     0       0.0369          0.000000    0.2720   \n",
       "1   0.690   11    -7.956     1       0.1640          0.000000    0.1010   \n",
       "2   0.704    6    -8.056     1       0.3600          0.000000    0.0898   \n",
       "3   0.450    8    -6.658     1       0.0418          0.000000    0.3820   \n",
       "4   0.548   10    -8.493     1       0.3530          0.000002    0.1330   \n",
       "\n",
       "   valence    tempo  duration_ms  time_signature  acousticness  popularity  \\\n",
       "0    0.756   90.989       140526               4         0.221       100.0   \n",
       "1    0.497   89.977       181733               4         0.247        96.0   \n",
       "2    0.372   86.919       212093               4         0.196        93.0   \n",
       "3    0.537  178.765       228482               3         0.223        90.0   \n",
       "4    0.543   83.995       160000               4         0.650        88.0   \n",
       "\n",
       "                                              lyrics  \n",
       "0  kgoldn kgoldn always mood fuckin round actin b...  \n",
       "1  dababy woo woo pull pull pull baby pull pull p...  \n",
       "2  justin bieber hear lot sinners saint might riv...  \n",
       "3  ariana grande mmm hey fun stuck ariana grande ...  \n",
       "4  uh shawty jogging every morning every morning ...  "
      ]
     },
     "execution_count": 32,
     "metadata": {},
     "output_type": "execute_result"
    }
   ],
   "source": [
    "ordered_songlist = pd.read_csv('ordered_songlist.csv')\n",
    "ordered_songlist.head()"
   ]
  },
  {
   "cell_type": "markdown",
   "metadata": {},
   "source": [
    "# Genius Lyrics - Most Common Words"
   ]
  },
  {
   "cell_type": "code",
   "execution_count": 33,
   "metadata": {},
   "outputs": [],
   "source": [
    "ordered_songlist.dropna(subset=['lyrics'],inplace=True)"
   ]
  },
  {
   "cell_type": "code",
   "execution_count": 34,
   "metadata": {},
   "outputs": [],
   "source": [
    "X = ordered_songlist['lyrics']"
   ]
  },
  {
   "cell_type": "code",
   "execution_count": 35,
   "metadata": {},
   "outputs": [],
   "source": [
    "# Split the data into the training and testing sets.\n",
    "X_train, X_test = train_test_split(X, test_size=0.33, random_state=42)"
   ]
  },
  {
   "cell_type": "code",
   "execution_count": 36,
   "metadata": {},
   "outputs": [],
   "source": [
    "# Instantiate the transformer.\n",
    "tvec = TfidfVectorizer()"
   ]
  },
  {
   "cell_type": "code",
   "execution_count": 37,
   "metadata": {},
   "outputs": [],
   "source": [
    "X_train_tf = tvec.fit_transform(X_train)"
   ]
  },
  {
   "cell_type": "code",
   "execution_count": 38,
   "metadata": {},
   "outputs": [
    {
     "data": {
      "text/html": [
       "<div>\n",
       "<style scoped>\n",
       "    .dataframe tbody tr th:only-of-type {\n",
       "        vertical-align: middle;\n",
       "    }\n",
       "\n",
       "    .dataframe tbody tr th {\n",
       "        vertical-align: top;\n",
       "    }\n",
       "\n",
       "    .dataframe thead th {\n",
       "        text-align: right;\n",
       "    }\n",
       "</style>\n",
       "<table border=\"1\" class=\"dataframe\">\n",
       "  <thead>\n",
       "    <tr style=\"text-align: right;\">\n",
       "      <th></th>\n",
       "      <th>aa</th>\n",
       "      <th>aaaaahhhhhhhhh</th>\n",
       "      <th>aaaahhahhhhaaaaa</th>\n",
       "      <th>aaaaiiiggggghhhhh</th>\n",
       "      <th>aaahhh</th>\n",
       "      <th>aaahhhhaaaaahaaaa</th>\n",
       "      <th>aaaiiiggggghhhhhhhh</th>\n",
       "      <th>aaaiiigggghhhhh</th>\n",
       "      <th>aaayy</th>\n",
       "      <th>aah</th>\n",
       "      <th>...</th>\n",
       "      <th>zunn</th>\n",
       "      <th>zuppose</th>\n",
       "      <th>zurich</th>\n",
       "      <th>zwei</th>\n",
       "      <th>zwilling</th>\n",
       "      <th>zwizzyland</th>\n",
       "      <th>zy</th>\n",
       "      <th>zynga</th>\n",
       "      <th>zz</th>\n",
       "      <th>zzz</th>\n",
       "    </tr>\n",
       "  </thead>\n",
       "  <tbody>\n",
       "    <tr>\n",
       "      <th>0</th>\n",
       "      <td>0.0</td>\n",
       "      <td>0.0</td>\n",
       "      <td>0.0</td>\n",
       "      <td>0.0</td>\n",
       "      <td>0.0</td>\n",
       "      <td>0.0</td>\n",
       "      <td>0.0</td>\n",
       "      <td>0.0</td>\n",
       "      <td>0.0</td>\n",
       "      <td>0.0</td>\n",
       "      <td>...</td>\n",
       "      <td>0.0</td>\n",
       "      <td>0.0</td>\n",
       "      <td>0.0</td>\n",
       "      <td>0.0</td>\n",
       "      <td>0.0</td>\n",
       "      <td>0.0</td>\n",
       "      <td>0.0</td>\n",
       "      <td>0.0</td>\n",
       "      <td>0.0</td>\n",
       "      <td>0.0</td>\n",
       "    </tr>\n",
       "    <tr>\n",
       "      <th>1</th>\n",
       "      <td>0.0</td>\n",
       "      <td>0.0</td>\n",
       "      <td>0.0</td>\n",
       "      <td>0.0</td>\n",
       "      <td>0.0</td>\n",
       "      <td>0.0</td>\n",
       "      <td>0.0</td>\n",
       "      <td>0.0</td>\n",
       "      <td>0.0</td>\n",
       "      <td>0.0</td>\n",
       "      <td>...</td>\n",
       "      <td>0.0</td>\n",
       "      <td>0.0</td>\n",
       "      <td>0.0</td>\n",
       "      <td>0.0</td>\n",
       "      <td>0.0</td>\n",
       "      <td>0.0</td>\n",
       "      <td>0.0</td>\n",
       "      <td>0.0</td>\n",
       "      <td>0.0</td>\n",
       "      <td>0.0</td>\n",
       "    </tr>\n",
       "    <tr>\n",
       "      <th>2</th>\n",
       "      <td>0.0</td>\n",
       "      <td>0.0</td>\n",
       "      <td>0.0</td>\n",
       "      <td>0.0</td>\n",
       "      <td>0.0</td>\n",
       "      <td>0.0</td>\n",
       "      <td>0.0</td>\n",
       "      <td>0.0</td>\n",
       "      <td>0.0</td>\n",
       "      <td>0.0</td>\n",
       "      <td>...</td>\n",
       "      <td>0.0</td>\n",
       "      <td>0.0</td>\n",
       "      <td>0.0</td>\n",
       "      <td>0.0</td>\n",
       "      <td>0.0</td>\n",
       "      <td>0.0</td>\n",
       "      <td>0.0</td>\n",
       "      <td>0.0</td>\n",
       "      <td>0.0</td>\n",
       "      <td>0.0</td>\n",
       "    </tr>\n",
       "    <tr>\n",
       "      <th>3</th>\n",
       "      <td>0.0</td>\n",
       "      <td>0.0</td>\n",
       "      <td>0.0</td>\n",
       "      <td>0.0</td>\n",
       "      <td>0.0</td>\n",
       "      <td>0.0</td>\n",
       "      <td>0.0</td>\n",
       "      <td>0.0</td>\n",
       "      <td>0.0</td>\n",
       "      <td>0.0</td>\n",
       "      <td>...</td>\n",
       "      <td>0.0</td>\n",
       "      <td>0.0</td>\n",
       "      <td>0.0</td>\n",
       "      <td>0.0</td>\n",
       "      <td>0.0</td>\n",
       "      <td>0.0</td>\n",
       "      <td>0.0</td>\n",
       "      <td>0.0</td>\n",
       "      <td>0.0</td>\n",
       "      <td>0.0</td>\n",
       "    </tr>\n",
       "    <tr>\n",
       "      <th>4</th>\n",
       "      <td>0.0</td>\n",
       "      <td>0.0</td>\n",
       "      <td>0.0</td>\n",
       "      <td>0.0</td>\n",
       "      <td>0.0</td>\n",
       "      <td>0.0</td>\n",
       "      <td>0.0</td>\n",
       "      <td>0.0</td>\n",
       "      <td>0.0</td>\n",
       "      <td>0.0</td>\n",
       "      <td>...</td>\n",
       "      <td>0.0</td>\n",
       "      <td>0.0</td>\n",
       "      <td>0.0</td>\n",
       "      <td>0.0</td>\n",
       "      <td>0.0</td>\n",
       "      <td>0.0</td>\n",
       "      <td>0.0</td>\n",
       "      <td>0.0</td>\n",
       "      <td>0.0</td>\n",
       "      <td>0.0</td>\n",
       "    </tr>\n",
       "  </tbody>\n",
       "</table>\n",
       "<p>5 rows × 55594 columns</p>\n",
       "</div>"
      ],
      "text/plain": [
       "    aa  aaaaahhhhhhhhh  aaaahhahhhhaaaaa  aaaaiiiggggghhhhh  aaahhh  \\\n",
       "0  0.0             0.0               0.0                0.0     0.0   \n",
       "1  0.0             0.0               0.0                0.0     0.0   \n",
       "2  0.0             0.0               0.0                0.0     0.0   \n",
       "3  0.0             0.0               0.0                0.0     0.0   \n",
       "4  0.0             0.0               0.0                0.0     0.0   \n",
       "\n",
       "   aaahhhhaaaaahaaaa  aaaiiiggggghhhhhhhh  aaaiiigggghhhhh  aaayy  aah  ...  \\\n",
       "0                0.0                  0.0              0.0    0.0  0.0  ...   \n",
       "1                0.0                  0.0              0.0    0.0  0.0  ...   \n",
       "2                0.0                  0.0              0.0    0.0  0.0  ...   \n",
       "3                0.0                  0.0              0.0    0.0  0.0  ...   \n",
       "4                0.0                  0.0              0.0    0.0  0.0  ...   \n",
       "\n",
       "   zunn  zuppose  zurich  zwei  zwilling  zwizzyland   zy  zynga   zz  zzz  \n",
       "0   0.0      0.0     0.0   0.0       0.0         0.0  0.0    0.0  0.0  0.0  \n",
       "1   0.0      0.0     0.0   0.0       0.0         0.0  0.0    0.0  0.0  0.0  \n",
       "2   0.0      0.0     0.0   0.0       0.0         0.0  0.0    0.0  0.0  0.0  \n",
       "3   0.0      0.0     0.0   0.0       0.0         0.0  0.0    0.0  0.0  0.0  \n",
       "4   0.0      0.0     0.0   0.0       0.0         0.0  0.0    0.0  0.0  0.0  \n",
       "\n",
       "[5 rows x 55594 columns]"
      ]
     },
     "execution_count": 38,
     "metadata": {},
     "output_type": "execute_result"
    }
   ],
   "source": [
    "wordcount_df = pd.DataFrame(X_train_tf.toarray(), columns=tvec.get_feature_names())\n",
    "wordcount_df.head()"
   ]
  },
  {
   "cell_type": "code",
   "execution_count": 39,
   "metadata": {},
   "outputs": [],
   "source": [
    "# get count of top-occurring words\n",
    "top_words_tf = {}\n",
    "for i in wordcount_df.columns:\n",
    "    top_words_tf[i] =  wordcount_df[i].sum()\n",
    "    \n",
    "# top_words to dataframe sorted by highest occurance\n",
    "most_freq_tf = pd.DataFrame(sorted(top_words_tf.items(), key = lambda x: x[1], reverse = True))"
   ]
  },
  {
   "cell_type": "code",
   "execution_count": 40,
   "metadata": {},
   "outputs": [
    {
     "data": {
      "image/png": "[encoded data removed]",
      "text/plain": [
       "<Figure size 1800x360 with 1 Axes>"
      ]
     },
     "metadata": {
      "needs_background": "light"
     },
     "output_type": "display_data"
    }
   ],
   "source": [
    "plt.figure(figsize = (25, 5))\n",
    "\n",
    "# visualize top 10 words\n",
    "plt.bar(most_freq_tf[0][:25], most_freq_tf[1][:25]);"
   ]
  },
  {
   "cell_type": "markdown",
   "metadata": {},
   "source": [
    "# Genius Lyrics - Sentiment Analysis"
   ]
  },
  {
   "cell_type": "markdown",
   "metadata": {},
   "source": [
    "## Sentiment Analysis - Love vs. Heartbreak"
   ]
  },
  {
   "cell_type": "code",
   "execution_count": 11,
   "metadata": {},
   "outputs": [],
   "source": [
    "# Let's come up with a list of positive and negative words we might observe.\n",
    "love_words = ['love', 'loved', 'sexy', 'sex', 'baby', 'shawty', 'girl', 'boy', 'guy', 'date', 'kiss', 'good', 'great', 'together', 'bed', 'wish', 'home', 'temptation']\n",
    "heartbreak_words = ['cry', 'tears', 'distant', 'crazy', 'shit', 'horrible', 'die', 'cold', 'pain', 'lonely', 'lost', 'fight', 'last', 'scream', 'regret','feels']"
   ]
  },
  {
   "cell_type": "code",
   "execution_count": 12,
   "metadata": {},
   "outputs": [],
   "source": [
    "def simple_sentiment(text):\n",
    "    # Instantiate tokenizer.\n",
    "    tokenizer = RegexpTokenizer(r'\\w+') # Splits everything up into words with line breaks and punctuation\n",
    "    \n",
    "    # Tokenize text.\n",
    "    tokens = tokenizer.tokenize(text.lower())\n",
    "    \n",
    "    # Instantiate stemmer.\n",
    "    p_stemmer = PorterStemmer()\n",
    "    \n",
    "    # Stem words.\n",
    "    stemmed_words = [p_stemmer.stem(i) for i in tokens]\n",
    "    \n",
    "    # Stem our positive/negative words.\n",
    "    love_stems = [p_stemmer.stem(i) for i in set(love_words)]\n",
    "    heartbreak_stems = [p_stemmer.stem(i) for i in set(heartbreak_words)]\n",
    "\n",
    "    # Count \"love\" words.\n",
    "    love_count = len([i for i in stemmed_words if i in love_stems])\n",
    "    \n",
    "    # Count \"heartbreak\" words\n",
    "    heartbreak_count = len([i for i in stemmed_words if i in heartbreak_stems])\n",
    "    \n",
    "    # Calculate Sentiment Percentage \n",
    "    # (Love Count - Heartbreak Count) / (Total Count)\n",
    "\n",
    "    return round((love_count - heartbreak_count))/ len(stemmed_words)"
   ]
  },
  {
   "cell_type": "code",
   "execution_count": 13,
   "metadata": {},
   "outputs": [],
   "source": [
    "# Apply sentiment analysis to every single lyrics set\n",
    "lyric_sentiments_love = []\n",
    "\n",
    "# For every set of lyrics in our Dataframe...\n",
    "for lyrics in ordered_songlist['lyrics']:\n",
    "    \n",
    "    try: # Convert lyrics to sentiment, then append to list.\n",
    "        lyric_sentiments_love.append(simple_sentiment(lyrics))\n",
    "    \n",
    "    except:\n",
    "        lyric_sentiments_love.append(0)"
   ]
  },
  {
   "cell_type": "code",
   "execution_count": 14,
   "metadata": {},
   "outputs": [],
   "source": [
    "ordered_songlist['lyrics_sentiments_love'] = lyric_sentiments_love"
   ]
  },
  {
   "cell_type": "code",
   "execution_count": 15,
   "metadata": {},
   "outputs": [
    {
     "data": {
      "text/html": [
       "<div>\n",
       "<style scoped>\n",
       "    .dataframe tbody tr th:only-of-type {\n",
       "        vertical-align: middle;\n",
       "    }\n",
       "\n",
       "    .dataframe tbody tr th {\n",
       "        vertical-align: top;\n",
       "    }\n",
       "\n",
       "    .dataframe thead th {\n",
       "        text-align: right;\n",
       "    }\n",
       "</style>\n",
       "<table border=\"1\" class=\"dataframe\">\n",
       "  <thead>\n",
       "    <tr style=\"text-align: right;\">\n",
       "      <th></th>\n",
       "      <th>popularity</th>\n",
       "      <th>lyrics_sentiments_love</th>\n",
       "    </tr>\n",
       "  </thead>\n",
       "  <tbody>\n",
       "    <tr>\n",
       "      <th>0</th>\n",
       "      <td>100.0</td>\n",
       "      <td>0.060000</td>\n",
       "    </tr>\n",
       "    <tr>\n",
       "      <th>1</th>\n",
       "      <td>96.0</td>\n",
       "      <td>-0.003390</td>\n",
       "    </tr>\n",
       "    <tr>\n",
       "      <th>2</th>\n",
       "      <td>92.0</td>\n",
       "      <td>-0.016260</td>\n",
       "    </tr>\n",
       "    <tr>\n",
       "      <th>3</th>\n",
       "      <td>91.0</td>\n",
       "      <td>0.011976</td>\n",
       "    </tr>\n",
       "    <tr>\n",
       "      <th>4</th>\n",
       "      <td>88.0</td>\n",
       "      <td>0.245763</td>\n",
       "    </tr>\n",
       "  </tbody>\n",
       "</table>\n",
       "</div>"
      ],
      "text/plain": [
       "   popularity  lyrics_sentiments_love\n",
       "0       100.0                0.060000\n",
       "1        96.0               -0.003390\n",
       "2        92.0               -0.016260\n",
       "3        91.0                0.011976\n",
       "4        88.0                0.245763"
      ]
     },
     "execution_count": 15,
     "metadata": {},
     "output_type": "execute_result"
    }
   ],
   "source": [
    "ordered_songlist[['popularity','lyrics_sentiments_love']].head()"
   ]
  },
  {
   "cell_type": "markdown",
   "metadata": {},
   "source": [
    "## Sentiment Analysis - Hype vs. Chill"
   ]
  },
  {
   "cell_type": "code",
   "execution_count": 16,
   "metadata": {},
   "outputs": [],
   "source": [
    "# Let's come up with a list of positive and negative words we might observe.\n",
    "hype_words = ['hype','yeah','baby','party','damn','punch','fuck','tonight','livin','living','together','wine','drink','alcohol','buzz','everyone','everybody','lit']\n",
    "chill_words = ['chill','bed','coffee','make','friend','sleep','rest','alone','space','food','breakfast','lunch','dinner','hang','hangout','hungout']"
   ]
  },
  {
   "cell_type": "code",
   "execution_count": 17,
   "metadata": {},
   "outputs": [],
   "source": [
    "def simple_sentiment(text):\n",
    "    # Instantiate tokenizer.\n",
    "    tokenizer = RegexpTokenizer(r'\\w+') # Splits everything up into words with line breaks and punctuation\n",
    "    \n",
    "    # Tokenize text.\n",
    "    tokens = tokenizer.tokenize(text.lower())\n",
    "    \n",
    "    # Instantiate stemmer.\n",
    "    p_stemmer = PorterStemmer()\n",
    "    \n",
    "    # Stem words.\n",
    "    stemmed_words = [p_stemmer.stem(i) for i in tokens]\n",
    "    \n",
    "    # Stem our positive/negative words.\n",
    "    hype_stems = [p_stemmer.stem(i) for i in set(hype_words)]\n",
    "    chill_stems = [p_stemmer.stem(i) for i in set(chill_words)]\n",
    "\n",
    "    # Count \"love\" words.\n",
    "    hype_count = len([i for i in stemmed_words if i in hype_stems])\n",
    "    \n",
    "    # Count \"heartbreak\" words\n",
    "    chill_count = len([i for i in stemmed_words if i in chill_stems])\n",
    "    \n",
    "    # Calculate Sentiment Percentage \n",
    "    # (Love Count - Heartbreak Count) / (Total Count)\n",
    "\n",
    "    return round((hype_count - chill_count))/ len(stemmed_words)"
   ]
  },
  {
   "cell_type": "code",
   "execution_count": 18,
   "metadata": {},
   "outputs": [
    {
     "data": {
      "text/plain": [
       "0.035"
      ]
     },
     "execution_count": 18,
     "metadata": {},
     "output_type": "execute_result"
    }
   ],
   "source": [
    "simple_sentiment(ordered_songlist['lyrics'][0])"
   ]
  },
  {
   "cell_type": "code",
   "execution_count": 19,
   "metadata": {},
   "outputs": [],
   "source": [
    "# Apply sentiment analysis to every single lyrics set\n",
    "lyric_sentiments_energy = []\n",
    "\n",
    "# For every set of lyrics in our Dataframe...\n",
    "for lyrics in ordered_songlist['lyrics']:\n",
    "    \n",
    "    try: # Convert lyrics to sentiment, then append to list.\n",
    "        lyric_sentiments_energy.append(simple_sentiment(lyrics))\n",
    "    \n",
    "    except:\n",
    "        lyric_sentiments_energy.append(0)"
   ]
  },
  {
   "cell_type": "code",
   "execution_count": 20,
   "metadata": {},
   "outputs": [],
   "source": [
    "ordered_songlist['lyric_sentiments_energy'] = lyric_sentiments_energy"
   ]
  },
  {
   "cell_type": "code",
   "execution_count": 21,
   "metadata": {},
   "outputs": [
    {
     "data": {
      "text/html": [
       "<div>\n",
       "<style scoped>\n",
       "    .dataframe tbody tr th:only-of-type {\n",
       "        vertical-align: middle;\n",
       "    }\n",
       "\n",
       "    .dataframe tbody tr th {\n",
       "        vertical-align: top;\n",
       "    }\n",
       "\n",
       "    .dataframe thead th {\n",
       "        text-align: right;\n",
       "    }\n",
       "</style>\n",
       "<table border=\"1\" class=\"dataframe\">\n",
       "  <thead>\n",
       "    <tr style=\"text-align: right;\">\n",
       "      <th></th>\n",
       "      <th>popularity</th>\n",
       "      <th>lyric_sentiments_energy</th>\n",
       "    </tr>\n",
       "  </thead>\n",
       "  <tbody>\n",
       "    <tr>\n",
       "      <th>0</th>\n",
       "      <td>100.0</td>\n",
       "      <td>0.035000</td>\n",
       "    </tr>\n",
       "    <tr>\n",
       "      <th>1</th>\n",
       "      <td>96.0</td>\n",
       "      <td>0.016949</td>\n",
       "    </tr>\n",
       "    <tr>\n",
       "      <th>2</th>\n",
       "      <td>92.0</td>\n",
       "      <td>-0.004065</td>\n",
       "    </tr>\n",
       "    <tr>\n",
       "      <th>3</th>\n",
       "      <td>91.0</td>\n",
       "      <td>0.029940</td>\n",
       "    </tr>\n",
       "    <tr>\n",
       "      <th>4</th>\n",
       "      <td>88.0</td>\n",
       "      <td>-0.016949</td>\n",
       "    </tr>\n",
       "  </tbody>\n",
       "</table>\n",
       "</div>"
      ],
      "text/plain": [
       "   popularity  lyric_sentiments_energy\n",
       "0       100.0                 0.035000\n",
       "1        96.0                 0.016949\n",
       "2        92.0                -0.004065\n",
       "3        91.0                 0.029940\n",
       "4        88.0                -0.016949"
      ]
     },
     "execution_count": 21,
     "metadata": {},
     "output_type": "execute_result"
    }
   ],
   "source": [
    "ordered_songlist[['popularity','lyric_sentiments_energy']].head()"
   ]
  },
  {
   "cell_type": "markdown",
   "metadata": {},
   "source": [
    "# Lyric Sentiment EDA"
   ]
  },
  {
   "cell_type": "code",
   "execution_count": 23,
   "metadata": {},
   "outputs": [],
   "source": [
    "song_features = ['danceability','energy','loudness','speechiness',\n",
    "                 'instrumentalness', 'liveness', 'valence', 'tempo',\n",
    "                'mode','duration_ms','time_signature','acousticness',\n",
    "                'lyric_sentiments_love', 'lyric_sentiments_energy']"
   ]
  },
  {
   "cell_type": "code",
   "execution_count": 29,
   "metadata": {},
   "outputs": [
    {
     "data": {
      "image/png": "[encoded data removed]",
      "text/plain": [
       "<Figure size 1008x864 with 2 Axes>"
      ]
     },
     "metadata": {
      "needs_background": "light"
     },
     "output_type": "display_data"
    }
   ],
   "source": [
    "# Heatmap of all features correlation with \"popularity\"\n",
    "corr_pop = ordered_songlist.corr()[['popularity']]\n",
    "plt.figure(figsize=(14,12))\n",
    "sns.heatmap(corr_pop.sort_values('popularity',ascending=False), cmap=\"Reds\", center=0, annot=True, vmin=-1, vmax=1);"
   ]
  },
  {
   "cell_type": "markdown",
   "metadata": {},
   "source": [
    "### Go to Part 4. Regression Modeling for more!"
   ]
  },
  {
   "cell_type": "code",
   "execution_count": null,
   "metadata": {},
   "outputs": [],
   "source": []
  }
 ],
 "metadata": {
  "kernelspec": {
   "display_name": "Python 3",
   "language": "python",
   "name": "python3"
  },
  "language_info": {
   "codemirror_mode": {
    "name": "ipython",
    "version": 3
   },
   "file_extension": ".py",
   "mimetype": "text/x-python",
   "name": "python",
   "nbconvert_exporter": "python",
   "pygments_lexer": "ipython3",
   "version": "3.7.6"
  }
 },
 "nbformat": 4,
 "nbformat_minor": 4
}
